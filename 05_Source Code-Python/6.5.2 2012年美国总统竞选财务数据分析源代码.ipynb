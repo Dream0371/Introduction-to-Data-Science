{
 "cells": [
  {
   "cell_type": "markdown",
   "metadata": {},
   "source": [
    "#  2012 USA Presidential Campaign Finance 数据分析"
   ]
  },
  {
   "cell_type": "markdown",
   "metadata": {},
   "source": [
    "### （1） 业务理解"
   ]
  },
  {
   "cell_type": "markdown",
   "metadata": {},
   "source": [
    "![images/PCF.png](images/PCF.png)"
   ]
  },
  {
   "cell_type": "markdown",
   "metadata": {},
   "source": [
    "### （2） 读入数据"
   ]
  },
  {
   "cell_type": "code",
   "execution_count": 1,
   "metadata": {},
   "outputs": [],
   "source": [
    "import pandas as pd"
   ]
  },
  {
   "cell_type": "code",
   "execution_count": 2,
   "metadata": {
    "scrolled": true
   },
   "outputs": [
    {
     "name": "stderr",
     "output_type": "stream",
     "text": [
      "C:\\Users\\lenovo\\anaconda3\\lib\\site-packages\\IPython\\core\\interactiveshell.py:3165: DtypeWarning: Columns (10) have mixed types.Specify dtype option on import or set low_memory=False.\n",
      "  has_raised = await self.run_ast_nodes(code_ast.body, cell_name,\n"
     ]
    }
   ],
   "source": [
    "PCF = pd.read_csv('PCF.csv',index_col=False,infer_datetime_format=True, parse_dates=[\"contb_receipt_dt\"])"
   ]
  },
  {
   "cell_type": "code",
   "execution_count": 3,
   "metadata": {},
   "outputs": [
    {
     "name": "stdout",
     "output_type": "stream",
     "text": [
      "<class 'pandas.core.frame.DataFrame'>\n",
      "RangeIndex: 2887500 entries, 0 to 2887499\n",
      "Data columns (total 17 columns):\n",
      " #   Column             Dtype         \n",
      "---  ------             -----         \n",
      " 0   Unnamed: 0         int64         \n",
      " 1   Unnamed: 0.1       int64         \n",
      " 2   Unnamed: 0.1.1     int64         \n",
      " 3   Unnamed: 0.1.1.1   int64         \n",
      " 4   cmte_id            object        \n",
      " 5   cand_id            object        \n",
      " 6   cand_nm            object        \n",
      " 7   contbr_nm          object        \n",
      " 8   contbr_city        object        \n",
      " 9   contbr_st          object        \n",
      " 10  contbr_zip         object        \n",
      " 11  contbr_employer    object        \n",
      " 12  contbr_occupation  object        \n",
      " 13  contb_receipt_amt  float64       \n",
      " 14  contb_receipt_dt   datetime64[ns]\n",
      " 15  file_num           int64         \n",
      " 16  tran_id            object        \n",
      "dtypes: datetime64[ns](1), float64(1), int64(5), object(10)\n",
      "memory usage: 374.5+ MB\n"
     ]
    }
   ],
   "source": [
    "PCF.info()"
   ]
  },
  {
   "cell_type": "code",
   "execution_count": 4,
   "metadata": {},
   "outputs": [
    {
     "data": {
      "text/plain": [
       "Index(['Unnamed: 0', 'Unnamed: 0.1', 'Unnamed: 0.1.1', 'Unnamed: 0.1.1.1',\n",
       "       'cmte_id', 'cand_id', 'cand_nm', 'contbr_nm', 'contbr_city',\n",
       "       'contbr_st', 'contbr_zip', 'contbr_employer', 'contbr_occupation',\n",
       "       'contb_receipt_amt', 'contb_receipt_dt', 'file_num', 'tran_id'],\n",
       "      dtype='object')"
      ]
     },
     "execution_count": 4,
     "metadata": {},
     "output_type": "execute_result"
    }
   ],
   "source": [
    "PCF.columns"
   ]
  },
  {
   "cell_type": "code",
   "execution_count": 5,
   "metadata": {},
   "outputs": [
    {
     "name": "stdout",
     "output_type": "stream",
     "text": [
      "<class 'pandas.core.frame.DataFrame'>\n",
      "RangeIndex: 2887500 entries, 0 to 2887499\n",
      "Data columns (total 17 columns):\n",
      " #   Column             Dtype         \n",
      "---  ------             -----         \n",
      " 0   Unnamed: 0         int64         \n",
      " 1   Unnamed: 0.1       int64         \n",
      " 2   Unnamed: 0.1.1     int64         \n",
      " 3   Unnamed: 0.1.1.1   int64         \n",
      " 4   cmte_id            object        \n",
      " 5   cand_id            object        \n",
      " 6   cand_nm            object        \n",
      " 7   contbr_nm          object        \n",
      " 8   contbr_city        object        \n",
      " 9   contbr_st          object        \n",
      " 10  contbr_zip         object        \n",
      " 11  contbr_employer    object        \n",
      " 12  contbr_occupation  object        \n",
      " 13  contb_receipt_amt  float64       \n",
      " 14  contb_receipt_dt   datetime64[ns]\n",
      " 15  file_num           int64         \n",
      " 16  tran_id            object        \n",
      "dtypes: datetime64[ns](1), float64(1), int64(5), object(10)\n",
      "memory usage: 374.5+ MB\n"
     ]
    }
   ],
   "source": [
    "    #PCF=PCF.drop([\"form_tp\",\"memo_cd\",\"memo_text\",\"receipt_desc\",\"election_tp\"],axis=1)\n",
    "    #【注意】drop可以修改数据本身，但需要注意设置axis属性。\n",
    "    #PCF.drop('cand_id',axis=1)\n",
    "PCF.info()"
   ]
  },
  {
   "cell_type": "code",
   "execution_count": 6,
   "metadata": {},
   "outputs": [
    {
     "data": {
      "text/html": [
       "<div>\n",
       "<style scoped>\n",
       "    .dataframe tbody tr th:only-of-type {\n",
       "        vertical-align: middle;\n",
       "    }\n",
       "\n",
       "    .dataframe tbody tr th {\n",
       "        vertical-align: top;\n",
       "    }\n",
       "\n",
       "    .dataframe thead th {\n",
       "        text-align: right;\n",
       "    }\n",
       "</style>\n",
       "<table border=\"1\" class=\"dataframe\">\n",
       "  <thead>\n",
       "    <tr style=\"text-align: right;\">\n",
       "      <th></th>\n",
       "      <th>Unnamed: 0</th>\n",
       "      <th>Unnamed: 0.1</th>\n",
       "      <th>Unnamed: 0.1.1</th>\n",
       "      <th>Unnamed: 0.1.1.1</th>\n",
       "      <th>cmte_id</th>\n",
       "      <th>cand_id</th>\n",
       "      <th>cand_nm</th>\n",
       "      <th>contbr_nm</th>\n",
       "      <th>contbr_city</th>\n",
       "      <th>contbr_st</th>\n",
       "      <th>contbr_zip</th>\n",
       "      <th>contbr_employer</th>\n",
       "      <th>contbr_occupation</th>\n",
       "      <th>contb_receipt_amt</th>\n",
       "      <th>contb_receipt_dt</th>\n",
       "      <th>file_num</th>\n",
       "      <th>tran_id</th>\n",
       "    </tr>\n",
       "  </thead>\n",
       "  <tbody>\n",
       "    <tr>\n",
       "      <th>0</th>\n",
       "      <td>0</td>\n",
       "      <td>0</td>\n",
       "      <td>0</td>\n",
       "      <td>0</td>\n",
       "      <td>C00410118</td>\n",
       "      <td>P20002978</td>\n",
       "      <td>Bachmann, Michele</td>\n",
       "      <td>HARVEY, WILLIAM</td>\n",
       "      <td>MOBILE</td>\n",
       "      <td>AL</td>\n",
       "      <td>366010290.0</td>\n",
       "      <td>RETIRED</td>\n",
       "      <td>RETIRED</td>\n",
       "      <td>250.0</td>\n",
       "      <td>2011-06-20</td>\n",
       "      <td>736166</td>\n",
       "      <td>A1FDABC23D2D545A1B83</td>\n",
       "    </tr>\n",
       "    <tr>\n",
       "      <th>1</th>\n",
       "      <td>1</td>\n",
       "      <td>1</td>\n",
       "      <td>1</td>\n",
       "      <td>1</td>\n",
       "      <td>C00410118</td>\n",
       "      <td>P20002978</td>\n",
       "      <td>Bachmann, Michele</td>\n",
       "      <td>HARVEY, WILLIAM</td>\n",
       "      <td>MOBILE</td>\n",
       "      <td>AL</td>\n",
       "      <td>366010290.0</td>\n",
       "      <td>RETIRED</td>\n",
       "      <td>RETIRED</td>\n",
       "      <td>50.0</td>\n",
       "      <td>2011-06-23</td>\n",
       "      <td>736166</td>\n",
       "      <td>A899B9B0E223743EFA63</td>\n",
       "    </tr>\n",
       "    <tr>\n",
       "      <th>2</th>\n",
       "      <td>2</td>\n",
       "      <td>2</td>\n",
       "      <td>2</td>\n",
       "      <td>2</td>\n",
       "      <td>C00410118</td>\n",
       "      <td>P20002978</td>\n",
       "      <td>Bachmann, Michele</td>\n",
       "      <td>SMITH, LANIER</td>\n",
       "      <td>LANETT</td>\n",
       "      <td>AL</td>\n",
       "      <td>368633403.0</td>\n",
       "      <td>INFORMATION REQUESTED</td>\n",
       "      <td>INFORMATION REQUESTED</td>\n",
       "      <td>250.0</td>\n",
       "      <td>2011-07-05</td>\n",
       "      <td>749073</td>\n",
       "      <td>A4B144E3CB3294ABC9D6</td>\n",
       "    </tr>\n",
       "    <tr>\n",
       "      <th>3</th>\n",
       "      <td>3</td>\n",
       "      <td>3</td>\n",
       "      <td>3</td>\n",
       "      <td>3</td>\n",
       "      <td>C00410118</td>\n",
       "      <td>P20002978</td>\n",
       "      <td>Bachmann, Michele</td>\n",
       "      <td>BLEVINS, DARONDA</td>\n",
       "      <td>PIGGOTT</td>\n",
       "      <td>AR</td>\n",
       "      <td>724548253.0</td>\n",
       "      <td>NONE</td>\n",
       "      <td>RETIRED</td>\n",
       "      <td>250.0</td>\n",
       "      <td>2011-08-01</td>\n",
       "      <td>749073</td>\n",
       "      <td>A8C7C6F55B0914C5A880</td>\n",
       "    </tr>\n",
       "    <tr>\n",
       "      <th>4</th>\n",
       "      <td>4</td>\n",
       "      <td>4</td>\n",
       "      <td>4</td>\n",
       "      <td>4</td>\n",
       "      <td>C00410118</td>\n",
       "      <td>P20002978</td>\n",
       "      <td>Bachmann, Michele</td>\n",
       "      <td>WARDENBURG, HAROLD</td>\n",
       "      <td>HOT SPRINGS NATION</td>\n",
       "      <td>AR</td>\n",
       "      <td>719016467.0</td>\n",
       "      <td>NONE</td>\n",
       "      <td>RETIRED</td>\n",
       "      <td>300.0</td>\n",
       "      <td>2011-06-20</td>\n",
       "      <td>736166</td>\n",
       "      <td>A070D6D560BD84AA98AC</td>\n",
       "    </tr>\n",
       "  </tbody>\n",
       "</table>\n",
       "</div>"
      ],
      "text/plain": [
       "   Unnamed: 0  Unnamed: 0.1  Unnamed: 0.1.1  Unnamed: 0.1.1.1    cmte_id  \\\n",
       "0           0             0               0                 0  C00410118   \n",
       "1           1             1               1                 1  C00410118   \n",
       "2           2             2               2                 2  C00410118   \n",
       "3           3             3               3                 3  C00410118   \n",
       "4           4             4               4                 4  C00410118   \n",
       "\n",
       "     cand_id            cand_nm           contbr_nm         contbr_city  \\\n",
       "0  P20002978  Bachmann, Michele     HARVEY, WILLIAM              MOBILE   \n",
       "1  P20002978  Bachmann, Michele     HARVEY, WILLIAM              MOBILE   \n",
       "2  P20002978  Bachmann, Michele       SMITH, LANIER              LANETT   \n",
       "3  P20002978  Bachmann, Michele    BLEVINS, DARONDA             PIGGOTT   \n",
       "4  P20002978  Bachmann, Michele  WARDENBURG, HAROLD  HOT SPRINGS NATION   \n",
       "\n",
       "  contbr_st   contbr_zip        contbr_employer      contbr_occupation  \\\n",
       "0        AL  366010290.0                RETIRED                RETIRED   \n",
       "1        AL  366010290.0                RETIRED                RETIRED   \n",
       "2        AL  368633403.0  INFORMATION REQUESTED  INFORMATION REQUESTED   \n",
       "3        AR  724548253.0                   NONE                RETIRED   \n",
       "4        AR  719016467.0                   NONE                RETIRED   \n",
       "\n",
       "   contb_receipt_amt contb_receipt_dt  file_num               tran_id  \n",
       "0              250.0       2011-06-20    736166  A1FDABC23D2D545A1B83  \n",
       "1               50.0       2011-06-23    736166  A899B9B0E223743EFA63  \n",
       "2              250.0       2011-07-05    749073  A4B144E3CB3294ABC9D6  \n",
       "3              250.0       2011-08-01    749073  A8C7C6F55B0914C5A880  \n",
       "4              300.0       2011-06-20    736166  A070D6D560BD84AA98AC  "
      ]
     },
     "execution_count": 6,
     "metadata": {},
     "output_type": "execute_result"
    }
   ],
   "source": [
    "PCF.head()"
   ]
  },
  {
   "cell_type": "code",
   "execution_count": 7,
   "metadata": {},
   "outputs": [],
   "source": [
    "#PCF.to_csv(\"PCF.csv\")"
   ]
  },
  {
   "cell_type": "code",
   "execution_count": 8,
   "metadata": {},
   "outputs": [
    {
     "data": {
      "text/plain": [
       "'C:\\\\Users\\\\lenovo'"
      ]
     },
     "execution_count": 8,
     "metadata": {},
     "output_type": "execute_result"
    }
   ],
   "source": [
    "import pandas as pd\n",
    "import os\n",
    "os.getcwd()"
   ]
  },
  {
   "cell_type": "code",
   "execution_count": 9,
   "metadata": {},
   "outputs": [
    {
     "name": "stderr",
     "output_type": "stream",
     "text": [
      "C:\\Users\\lenovo\\anaconda3\\lib\\site-packages\\IPython\\core\\interactiveshell.py:3165: DtypeWarning: Columns (10) have mixed types.Specify dtype option on import or set low_memory=False.\n",
      "  has_raised = await self.run_ast_nodes(code_ast.body, cell_name,\n"
     ]
    },
    {
     "name": "stdout",
     "output_type": "stream",
     "text": [
      "<class 'pandas.core.frame.DataFrame'>\n",
      "RangeIndex: 2887500 entries, 0 to 2887499\n",
      "Data columns (total 17 columns):\n",
      " #   Column             Dtype         \n",
      "---  ------             -----         \n",
      " 0   Unnamed: 0         int64         \n",
      " 1   Unnamed: 0.1       int64         \n",
      " 2   Unnamed: 0.1.1     int64         \n",
      " 3   Unnamed: 0.1.1.1   int64         \n",
      " 4   cmte_id            object        \n",
      " 5   cand_id            object        \n",
      " 6   cand_nm            object        \n",
      " 7   contbr_nm          object        \n",
      " 8   contbr_city        object        \n",
      " 9   contbr_st          object        \n",
      " 10  contbr_zip         object        \n",
      " 11  contbr_employer    object        \n",
      " 12  contbr_occupation  object        \n",
      " 13  contb_receipt_amt  float64       \n",
      " 14  contb_receipt_dt   datetime64[ns]\n",
      " 15  file_num           int64         \n",
      " 16  tran_id            object        \n",
      "dtypes: datetime64[ns](1), float64(1), int64(5), object(10)\n",
      "memory usage: 374.5+ MB\n"
     ]
    }
   ],
   "source": [
    "PCF = pd.read_csv('PCF.csv',header=0,infer_datetime_format=True, parse_dates=[\"contb_receipt_dt\"])\n",
    "   \n",
    "PCF.info()"
   ]
  },
  {
   "cell_type": "markdown",
   "metadata": {},
   "source": [
    "### （3） 理解数据"
   ]
  },
  {
   "cell_type": "code",
   "execution_count": 10,
   "metadata": {},
   "outputs": [
    {
     "data": {
      "text/plain": [
       "(2887500, 17)"
      ]
     },
     "execution_count": 10,
     "metadata": {},
     "output_type": "execute_result"
    }
   ],
   "source": [
    "PCF.shape"
   ]
  },
  {
   "cell_type": "code",
   "execution_count": 11,
   "metadata": {},
   "outputs": [
    {
     "data": {
      "text/html": [
       "<div>\n",
       "<style scoped>\n",
       "    .dataframe tbody tr th:only-of-type {\n",
       "        vertical-align: middle;\n",
       "    }\n",
       "\n",
       "    .dataframe tbody tr th {\n",
       "        vertical-align: top;\n",
       "    }\n",
       "\n",
       "    .dataframe thead th {\n",
       "        text-align: right;\n",
       "    }\n",
       "</style>\n",
       "<table border=\"1\" class=\"dataframe\">\n",
       "  <thead>\n",
       "    <tr style=\"text-align: right;\">\n",
       "      <th></th>\n",
       "      <th>Unnamed: 0</th>\n",
       "      <th>Unnamed: 0.1</th>\n",
       "      <th>Unnamed: 0.1.1</th>\n",
       "      <th>Unnamed: 0.1.1.1</th>\n",
       "      <th>cmte_id</th>\n",
       "      <th>cand_id</th>\n",
       "      <th>cand_nm</th>\n",
       "      <th>contbr_nm</th>\n",
       "      <th>contbr_city</th>\n",
       "      <th>contbr_st</th>\n",
       "      <th>contbr_zip</th>\n",
       "      <th>contbr_employer</th>\n",
       "      <th>contbr_occupation</th>\n",
       "      <th>contb_receipt_amt</th>\n",
       "      <th>contb_receipt_dt</th>\n",
       "      <th>file_num</th>\n",
       "      <th>tran_id</th>\n",
       "    </tr>\n",
       "  </thead>\n",
       "  <tbody>\n",
       "    <tr>\n",
       "      <th>0</th>\n",
       "      <td>0</td>\n",
       "      <td>0</td>\n",
       "      <td>0</td>\n",
       "      <td>0</td>\n",
       "      <td>C00410118</td>\n",
       "      <td>P20002978</td>\n",
       "      <td>Bachmann, Michele</td>\n",
       "      <td>HARVEY, WILLIAM</td>\n",
       "      <td>MOBILE</td>\n",
       "      <td>AL</td>\n",
       "      <td>366010290.0</td>\n",
       "      <td>RETIRED</td>\n",
       "      <td>RETIRED</td>\n",
       "      <td>250.0</td>\n",
       "      <td>2011-06-20</td>\n",
       "      <td>736166</td>\n",
       "      <td>A1FDABC23D2D545A1B83</td>\n",
       "    </tr>\n",
       "    <tr>\n",
       "      <th>1</th>\n",
       "      <td>1</td>\n",
       "      <td>1</td>\n",
       "      <td>1</td>\n",
       "      <td>1</td>\n",
       "      <td>C00410118</td>\n",
       "      <td>P20002978</td>\n",
       "      <td>Bachmann, Michele</td>\n",
       "      <td>HARVEY, WILLIAM</td>\n",
       "      <td>MOBILE</td>\n",
       "      <td>AL</td>\n",
       "      <td>366010290.0</td>\n",
       "      <td>RETIRED</td>\n",
       "      <td>RETIRED</td>\n",
       "      <td>50.0</td>\n",
       "      <td>2011-06-23</td>\n",
       "      <td>736166</td>\n",
       "      <td>A899B9B0E223743EFA63</td>\n",
       "    </tr>\n",
       "  </tbody>\n",
       "</table>\n",
       "</div>"
      ],
      "text/plain": [
       "   Unnamed: 0  Unnamed: 0.1  Unnamed: 0.1.1  Unnamed: 0.1.1.1    cmte_id  \\\n",
       "0           0             0               0                 0  C00410118   \n",
       "1           1             1               1                 1  C00410118   \n",
       "\n",
       "     cand_id            cand_nm        contbr_nm contbr_city contbr_st  \\\n",
       "0  P20002978  Bachmann, Michele  HARVEY, WILLIAM      MOBILE        AL   \n",
       "1  P20002978  Bachmann, Michele  HARVEY, WILLIAM      MOBILE        AL   \n",
       "\n",
       "    contbr_zip contbr_employer contbr_occupation  contb_receipt_amt  \\\n",
       "0  366010290.0         RETIRED           RETIRED              250.0   \n",
       "1  366010290.0         RETIRED           RETIRED               50.0   \n",
       "\n",
       "  contb_receipt_dt  file_num               tran_id  \n",
       "0       2011-06-20    736166  A1FDABC23D2D545A1B83  \n",
       "1       2011-06-23    736166  A899B9B0E223743EFA63  "
      ]
     },
     "execution_count": 11,
     "metadata": {},
     "output_type": "execute_result"
    }
   ],
   "source": [
    "PCF.head(2)"
   ]
  },
  {
   "cell_type": "code",
   "execution_count": 12,
   "metadata": {},
   "outputs": [
    {
     "data": {
      "text/html": [
       "<div>\n",
       "<style scoped>\n",
       "    .dataframe tbody tr th:only-of-type {\n",
       "        vertical-align: middle;\n",
       "    }\n",
       "\n",
       "    .dataframe tbody tr th {\n",
       "        vertical-align: top;\n",
       "    }\n",
       "\n",
       "    .dataframe thead th {\n",
       "        text-align: right;\n",
       "    }\n",
       "</style>\n",
       "<table border=\"1\" class=\"dataframe\">\n",
       "  <thead>\n",
       "    <tr style=\"text-align: right;\">\n",
       "      <th></th>\n",
       "      <th>Unnamed: 0</th>\n",
       "      <th>Unnamed: 0.1</th>\n",
       "      <th>Unnamed: 0.1.1</th>\n",
       "      <th>Unnamed: 0.1.1.1</th>\n",
       "      <th>contb_receipt_amt</th>\n",
       "      <th>file_num</th>\n",
       "    </tr>\n",
       "  </thead>\n",
       "  <tbody>\n",
       "    <tr>\n",
       "      <th>count</th>\n",
       "      <td>2.887500e+06</td>\n",
       "      <td>2.887500e+06</td>\n",
       "      <td>2.887500e+06</td>\n",
       "      <td>2.887500e+06</td>\n",
       "      <td>2.887500e+06</td>\n",
       "      <td>2.887500e+06</td>\n",
       "    </tr>\n",
       "    <tr>\n",
       "      <th>mean</th>\n",
       "      <td>1.443750e+06</td>\n",
       "      <td>1.443750e+06</td>\n",
       "      <td>1.443750e+06</td>\n",
       "      <td>1.443750e+06</td>\n",
       "      <td>2.812972e+02</td>\n",
       "      <td>8.484570e+05</td>\n",
       "    </tr>\n",
       "    <tr>\n",
       "      <th>std</th>\n",
       "      <td>8.335496e+05</td>\n",
       "      <td>8.335496e+05</td>\n",
       "      <td>8.335496e+05</td>\n",
       "      <td>8.335496e+05</td>\n",
       "      <td>6.758082e+02</td>\n",
       "      <td>5.359503e+04</td>\n",
       "    </tr>\n",
       "    <tr>\n",
       "      <th>min</th>\n",
       "      <td>0.000000e+00</td>\n",
       "      <td>0.000000e+00</td>\n",
       "      <td>0.000000e+00</td>\n",
       "      <td>0.000000e+00</td>\n",
       "      <td>-3.080000e+04</td>\n",
       "      <td>7.361660e+05</td>\n",
       "    </tr>\n",
       "    <tr>\n",
       "      <th>25%</th>\n",
       "      <td>7.218748e+05</td>\n",
       "      <td>7.218748e+05</td>\n",
       "      <td>7.218748e+05</td>\n",
       "      <td>7.218748e+05</td>\n",
       "      <td>3.500000e+01</td>\n",
       "      <td>8.113650e+05</td>\n",
       "    </tr>\n",
       "    <tr>\n",
       "      <th>50%</th>\n",
       "      <td>1.443750e+06</td>\n",
       "      <td>1.443750e+06</td>\n",
       "      <td>1.443750e+06</td>\n",
       "      <td>1.443750e+06</td>\n",
       "      <td>1.000000e+02</td>\n",
       "      <td>8.277610e+05</td>\n",
       "    </tr>\n",
       "    <tr>\n",
       "      <th>75%</th>\n",
       "      <td>2.165624e+06</td>\n",
       "      <td>2.165624e+06</td>\n",
       "      <td>2.165624e+06</td>\n",
       "      <td>2.165624e+06</td>\n",
       "      <td>2.500000e+02</td>\n",
       "      <td>8.463960e+05</td>\n",
       "    </tr>\n",
       "    <tr>\n",
       "      <th>max</th>\n",
       "      <td>2.887499e+06</td>\n",
       "      <td>2.887499e+06</td>\n",
       "      <td>2.887499e+06</td>\n",
       "      <td>2.887499e+06</td>\n",
       "      <td>4.517260e+05</td>\n",
       "      <td>9.448280e+05</td>\n",
       "    </tr>\n",
       "  </tbody>\n",
       "</table>\n",
       "</div>"
      ],
      "text/plain": [
       "         Unnamed: 0  Unnamed: 0.1  Unnamed: 0.1.1  Unnamed: 0.1.1.1  \\\n",
       "count  2.887500e+06  2.887500e+06    2.887500e+06      2.887500e+06   \n",
       "mean   1.443750e+06  1.443750e+06    1.443750e+06      1.443750e+06   \n",
       "std    8.335496e+05  8.335496e+05    8.335496e+05      8.335496e+05   \n",
       "min    0.000000e+00  0.000000e+00    0.000000e+00      0.000000e+00   \n",
       "25%    7.218748e+05  7.218748e+05    7.218748e+05      7.218748e+05   \n",
       "50%    1.443750e+06  1.443750e+06    1.443750e+06      1.443750e+06   \n",
       "75%    2.165624e+06  2.165624e+06    2.165624e+06      2.165624e+06   \n",
       "max    2.887499e+06  2.887499e+06    2.887499e+06      2.887499e+06   \n",
       "\n",
       "       contb_receipt_amt      file_num  \n",
       "count       2.887500e+06  2.887500e+06  \n",
       "mean        2.812972e+02  8.484570e+05  \n",
       "std         6.758082e+02  5.359503e+04  \n",
       "min        -3.080000e+04  7.361660e+05  \n",
       "25%         3.500000e+01  8.113650e+05  \n",
       "50%         1.000000e+02  8.277610e+05  \n",
       "75%         2.500000e+02  8.463960e+05  \n",
       "max         4.517260e+05  9.448280e+05  "
      ]
     },
     "execution_count": 12,
     "metadata": {},
     "output_type": "execute_result"
    }
   ],
   "source": [
    "PCF.describe() \n",
    " "
   ]
  },
  {
   "cell_type": "code",
   "execution_count": 13,
   "metadata": {},
   "outputs": [
    {
     "data": {
      "text/plain": [
       "array(['Bachmann, Michele', 'Romney, Mitt', 'Obama, Barack'], dtype=object)"
      ]
     },
     "execution_count": 13,
     "metadata": {},
     "output_type": "execute_result"
    }
   ],
   "source": [
    "#查看候选人名单\n",
    "PCF.cand_nm.unique()\n",
    " "
   ]
  },
  {
   "cell_type": "code",
   "execution_count": 14,
   "metadata": {},
   "outputs": [
    {
     "data": {
      "text/plain": [
       "(3,)"
      ]
     },
     "execution_count": 14,
     "metadata": {},
     "output_type": "execute_result"
    }
   ],
   "source": [
    "#计算候选人个数\n",
    "PCF.cand_nm.unique().shape"
   ]
  },
  {
   "cell_type": "code",
   "execution_count": 15,
   "metadata": {},
   "outputs": [
    {
     "data": {
      "text/plain": [
       "3"
      ]
     },
     "execution_count": 15,
     "metadata": {},
     "output_type": "execute_result"
    }
   ],
   "source": [
    "len(PCF.cand_nm.unique())"
   ]
  },
  {
   "cell_type": "code",
   "execution_count": 16,
   "metadata": {},
   "outputs": [
    {
     "data": {
      "text/plain": [
       "Unnamed: 0                             100000\n",
       "Unnamed: 0.1                           100000\n",
       "Unnamed: 0.1.1                         100000\n",
       "Unnamed: 0.1.1.1                       100000\n",
       "cmte_id                             C00431171\n",
       "cand_id                             P80003353\n",
       "cand_nm                          Romney, Mitt\n",
       "contbr_nm            GREENMAN, WILLIAM M. MR.\n",
       "contbr_city                         CUPERTINO\n",
       "contbr_st                                  CA\n",
       "contbr_zip                        950144746.0\n",
       "contbr_employer                       RETIRED\n",
       "contbr_occupation                     RETIRED\n",
       "contb_receipt_amt                      1000.0\n",
       "contb_receipt_dt          2012-07-31 00:00:00\n",
       "file_num                               821472\n",
       "tran_id                          SA17.1773888\n",
       "Name: 100000, dtype: object"
      ]
     },
     "execution_count": 16,
     "metadata": {},
     "output_type": "execute_result"
    }
   ],
   "source": [
    "PCF.iloc[100000]"
   ]
  },
  {
   "cell_type": "markdown",
   "metadata": {},
   "source": [
    "### （4） 数据加工"
   ]
  },
  {
   "cell_type": "markdown",
   "metadata": {},
   "source": [
    "#### 首先， 计算候选人名单"
   ]
  },
  {
   "cell_type": "code",
   "execution_count": 17,
   "metadata": {},
   "outputs": [
    {
     "data": {
      "text/plain": [
       "array(['Bachmann, Michele', 'Romney, Mitt', 'Obama, Barack'], dtype=object)"
      ]
     },
     "execution_count": 17,
     "metadata": {},
     "output_type": "execute_result"
    }
   ],
   "source": [
    "unique_cands = PCF.cand_nm.unique()\n",
    "     \n",
    "unique_cands"
   ]
  },
  {
   "cell_type": "code",
   "execution_count": 18,
   "metadata": {},
   "outputs": [
    {
     "data": {
      "text/plain": [
       "(3,)"
      ]
     },
     "execution_count": 18,
     "metadata": {},
     "output_type": "execute_result"
    }
   ],
   "source": [
    "unique_cands.shape\n",
    "   "
   ]
  },
  {
   "cell_type": "markdown",
   "metadata": {},
   "source": [
    "#### 其次， 抽取Obama和Romney的数据"
   ]
  },
  {
   "cell_type": "code",
   "execution_count": 19,
   "metadata": {},
   "outputs": [
    {
     "data": {
      "text/html": [
       "<div>\n",
       "<style scoped>\n",
       "    .dataframe tbody tr th:only-of-type {\n",
       "        vertical-align: middle;\n",
       "    }\n",
       "\n",
       "    .dataframe tbody tr th {\n",
       "        vertical-align: top;\n",
       "    }\n",
       "\n",
       "    .dataframe thead th {\n",
       "        text-align: right;\n",
       "    }\n",
       "</style>\n",
       "<table border=\"1\" class=\"dataframe\">\n",
       "  <thead>\n",
       "    <tr style=\"text-align: right;\">\n",
       "      <th></th>\n",
       "      <th>Unnamed: 0</th>\n",
       "      <th>Unnamed: 0.1</th>\n",
       "      <th>Unnamed: 0.1.1</th>\n",
       "      <th>Unnamed: 0.1.1.1</th>\n",
       "      <th>cmte_id</th>\n",
       "      <th>cand_id</th>\n",
       "      <th>cand_nm</th>\n",
       "      <th>contbr_nm</th>\n",
       "      <th>contbr_city</th>\n",
       "      <th>contbr_st</th>\n",
       "      <th>contbr_zip</th>\n",
       "      <th>contbr_employer</th>\n",
       "      <th>contbr_occupation</th>\n",
       "      <th>contb_receipt_amt</th>\n",
       "      <th>contb_receipt_dt</th>\n",
       "      <th>file_num</th>\n",
       "      <th>tran_id</th>\n",
       "    </tr>\n",
       "  </thead>\n",
       "  <tbody>\n",
       "    <tr>\n",
       "      <th>411</th>\n",
       "      <td>411</td>\n",
       "      <td>411</td>\n",
       "      <td>411</td>\n",
       "      <td>411</td>\n",
       "      <td>C00431171</td>\n",
       "      <td>P80003353</td>\n",
       "      <td>Romney, Mitt</td>\n",
       "      <td>CLARK, MICHAEL</td>\n",
       "      <td>FORT MEYERS</td>\n",
       "      <td>33</td>\n",
       "      <td>33908.0</td>\n",
       "      <td>RETIRED</td>\n",
       "      <td>NONE</td>\n",
       "      <td>200.0</td>\n",
       "      <td>2012-09-21</td>\n",
       "      <td>822044</td>\n",
       "      <td>SA17.2726391</td>\n",
       "    </tr>\n",
       "    <tr>\n",
       "      <th>412</th>\n",
       "      <td>412</td>\n",
       "      <td>412</td>\n",
       "      <td>412</td>\n",
       "      <td>412</td>\n",
       "      <td>C00431171</td>\n",
       "      <td>P80003353</td>\n",
       "      <td>Romney, Mitt</td>\n",
       "      <td>CALIENES, GLADYS MS.</td>\n",
       "      <td>GABLES</td>\n",
       "      <td>33</td>\n",
       "      <td>33146.0</td>\n",
       "      <td>INFORMATION REQUESTED PER BEST EFFORTS</td>\n",
       "      <td>INFORMATION REQUESTED PER BEST EFFORTS</td>\n",
       "      <td>100.0</td>\n",
       "      <td>2012-09-12</td>\n",
       "      <td>822044</td>\n",
       "      <td>SA17.2588087</td>\n",
       "    </tr>\n",
       "  </tbody>\n",
       "</table>\n",
       "</div>"
      ],
      "text/plain": [
       "     Unnamed: 0  Unnamed: 0.1  Unnamed: 0.1.1  Unnamed: 0.1.1.1    cmte_id  \\\n",
       "411         411           411             411               411  C00431171   \n",
       "412         412           412             412               412  C00431171   \n",
       "\n",
       "       cand_id       cand_nm             contbr_nm  contbr_city contbr_st  \\\n",
       "411  P80003353  Romney, Mitt        CLARK, MICHAEL  FORT MEYERS        33   \n",
       "412  P80003353  Romney, Mitt  CALIENES, GLADYS MS.       GABLES        33   \n",
       "\n",
       "    contbr_zip                         contbr_employer  \\\n",
       "411    33908.0                                 RETIRED   \n",
       "412    33146.0  INFORMATION REQUESTED PER BEST EFFORTS   \n",
       "\n",
       "                          contbr_occupation  contb_receipt_amt  \\\n",
       "411                                    NONE              200.0   \n",
       "412  INFORMATION REQUESTED PER BEST EFFORTS              100.0   \n",
       "\n",
       "    contb_receipt_dt  file_num       tran_id  \n",
       "411       2012-09-21    822044  SA17.2726391  \n",
       "412       2012-09-12    822044  SA17.2588087  "
      ]
     },
     "execution_count": 19,
     "metadata": {},
     "output_type": "execute_result"
    }
   ],
   "source": [
    "#抽取Obama和Romney的数据\n",
    "PCF_ObamaAndRomney = PCF[PCF.cand_nm.isin(['Obama, Barack', 'Romney, Mitt'])]\n",
    "    \n",
    "    \n",
    "PCF_ObamaAndRomney.head(2) "
   ]
  },
  {
   "cell_type": "code",
   "execution_count": 20,
   "metadata": {},
   "outputs": [
    {
     "name": "stdout",
     "output_type": "stream",
     "text": [
      "<class 'pandas.core.frame.DataFrame'>\n",
      "Int64Index: 2887089 entries, 411 to 2887499\n",
      "Data columns (total 17 columns):\n",
      " #   Column             Dtype         \n",
      "---  ------             -----         \n",
      " 0   Unnamed: 0         int64         \n",
      " 1   Unnamed: 0.1       int64         \n",
      " 2   Unnamed: 0.1.1     int64         \n",
      " 3   Unnamed: 0.1.1.1   int64         \n",
      " 4   cmte_id            object        \n",
      " 5   cand_id            object        \n",
      " 6   cand_nm            object        \n",
      " 7   contbr_nm          object        \n",
      " 8   contbr_city        object        \n",
      " 9   contbr_st          object        \n",
      " 10  contbr_zip         object        \n",
      " 11  contbr_employer    object        \n",
      " 12  contbr_occupation  object        \n",
      " 13  contb_receipt_amt  float64       \n",
      " 14  contb_receipt_dt   datetime64[ns]\n",
      " 15  file_num           int64         \n",
      " 16  tran_id            object        \n",
      "dtypes: datetime64[ns](1), float64(1), int64(5), object(10)\n",
      "memory usage: 396.5+ MB\n"
     ]
    }
   ],
   "source": [
    "PCF_ObamaAndRomney.info()"
   ]
  },
  {
   "cell_type": "code",
   "execution_count": 21,
   "metadata": {},
   "outputs": [
    {
     "data": {
      "text/plain": [
       "Romney, Mitt     1593686\n",
       "Obama, Barack    1293403\n",
       "Name: cand_nm, dtype: int64"
      ]
     },
     "execution_count": 21,
     "metadata": {},
     "output_type": "execute_result"
    }
   ],
   "source": [
    "PCF_ObamaAndRomney.cand_nm.value_counts()\n",
    " \n",
    "    "
   ]
  },
  {
   "cell_type": "markdown",
   "metadata": {},
   "source": [
    "#### 最后， 补充党派信息"
   ]
  },
  {
   "cell_type": "code",
   "execution_count": 22,
   "metadata": {},
   "outputs": [],
   "source": [
    "parties = { 'Obama, Barack': '民主党（Democrat）',\n",
    "           'Romney, Mitt': '共和党（Republican）'\n",
    "          }"
   ]
  },
  {
   "cell_type": "code",
   "execution_count": 23,
   "metadata": {},
   "outputs": [
    {
     "name": "stderr",
     "output_type": "stream",
     "text": [
      "<ipython-input-23-96aba0ab25c3>:2: SettingWithCopyWarning: \n",
      "A value is trying to be set on a copy of a slice from a DataFrame.\n",
      "Try using .loc[row_indexer,col_indexer] = value instead\n",
      "\n",
      "See the caveats in the documentation: https://pandas.pydata.org/pandas-docs/stable/user_guide/indexing.html#returning-a-view-versus-a-copy\n",
      "  PCF_ObamaAndRomney['party'] = PCF_ObamaAndRomney.cand_nm.map(parties)\n"
     ]
    },
    {
     "data": {
      "text/plain": [
       "共和党（Republican）    1593686\n",
       "民主党（Democrat）      1293403\n",
       "Name: party, dtype: int64"
      ]
     },
     "execution_count": 23,
     "metadata": {},
     "output_type": "execute_result"
    }
   ],
   "source": [
    "# 新增名为party的一列，将用map函数将【姓名】映射（替换）为【党派信息】写入此列中\n",
    "PCF_ObamaAndRomney['party'] = PCF_ObamaAndRomney.cand_nm.map(parties)\n",
    " \n",
    "PCF_ObamaAndRomney['party'].value_counts() #个数统计\n",
    " "
   ]
  },
  {
   "cell_type": "code",
   "execution_count": 24,
   "metadata": {},
   "outputs": [
    {
     "name": "stdout",
     "output_type": "stream",
     "text": [
      "<class 'pandas.core.frame.DataFrame'>\n",
      "Int64Index: 2887089 entries, 411 to 2887499\n",
      "Data columns (total 18 columns):\n",
      " #   Column             Dtype         \n",
      "---  ------             -----         \n",
      " 0   Unnamed: 0         int64         \n",
      " 1   Unnamed: 0.1       int64         \n",
      " 2   Unnamed: 0.1.1     int64         \n",
      " 3   Unnamed: 0.1.1.1   int64         \n",
      " 4   cmte_id            object        \n",
      " 5   cand_id            object        \n",
      " 6   cand_nm            object        \n",
      " 7   contbr_nm          object        \n",
      " 8   contbr_city        object        \n",
      " 9   contbr_st          object        \n",
      " 10  contbr_zip         object        \n",
      " 11  contbr_employer    object        \n",
      " 12  contbr_occupation  object        \n",
      " 13  contb_receipt_amt  float64       \n",
      " 14  contb_receipt_dt   datetime64[ns]\n",
      " 15  file_num           int64         \n",
      " 16  tran_id            object        \n",
      " 17  party              object        \n",
      "dtypes: datetime64[ns](1), float64(1), int64(5), object(11)\n",
      "memory usage: 418.5+ MB\n"
     ]
    }
   ],
   "source": [
    "PCF_ObamaAndRomney.info()  "
   ]
  },
  {
   "cell_type": "code",
   "execution_count": 25,
   "metadata": {},
   "outputs": [
    {
     "data": {
      "text/html": [
       "<div>\n",
       "<style scoped>\n",
       "    .dataframe tbody tr th:only-of-type {\n",
       "        vertical-align: middle;\n",
       "    }\n",
       "\n",
       "    .dataframe tbody tr th {\n",
       "        vertical-align: top;\n",
       "    }\n",
       "\n",
       "    .dataframe thead th {\n",
       "        text-align: right;\n",
       "    }\n",
       "</style>\n",
       "<table border=\"1\" class=\"dataframe\">\n",
       "  <thead>\n",
       "    <tr style=\"text-align: right;\">\n",
       "      <th></th>\n",
       "      <th>Unnamed: 0</th>\n",
       "      <th>Unnamed: 0.1</th>\n",
       "      <th>Unnamed: 0.1.1</th>\n",
       "      <th>Unnamed: 0.1.1.1</th>\n",
       "      <th>cmte_id</th>\n",
       "      <th>cand_id</th>\n",
       "      <th>cand_nm</th>\n",
       "      <th>contbr_nm</th>\n",
       "      <th>contbr_city</th>\n",
       "      <th>contbr_st</th>\n",
       "      <th>contbr_zip</th>\n",
       "      <th>contbr_employer</th>\n",
       "      <th>contbr_occupation</th>\n",
       "      <th>contb_receipt_amt</th>\n",
       "      <th>contb_receipt_dt</th>\n",
       "      <th>file_num</th>\n",
       "      <th>tran_id</th>\n",
       "      <th>party</th>\n",
       "    </tr>\n",
       "  </thead>\n",
       "  <tbody>\n",
       "    <tr>\n",
       "      <th>1792</th>\n",
       "      <td>1792</td>\n",
       "      <td>1792</td>\n",
       "      <td>1792</td>\n",
       "      <td>1792</td>\n",
       "      <td>C00431171</td>\n",
       "      <td>P80003353</td>\n",
       "      <td>Romney, Mitt</td>\n",
       "      <td>MORTENSEN, ROBERT DR.</td>\n",
       "      <td>EABLE RNEE</td>\n",
       "      <td>AK</td>\n",
       "      <td>995778797.0</td>\n",
       "      <td>VETERANS ADMINISTRATION</td>\n",
       "      <td>DENTIST</td>\n",
       "      <td>-500.0</td>\n",
       "      <td>2012-05-22</td>\n",
       "      <td>944813</td>\n",
       "      <td>SA17.974299B</td>\n",
       "      <td>共和党（Republican）</td>\n",
       "    </tr>\n",
       "    <tr>\n",
       "      <th>2027</th>\n",
       "      <td>2027</td>\n",
       "      <td>2027</td>\n",
       "      <td>2027</td>\n",
       "      <td>2027</td>\n",
       "      <td>C00431171</td>\n",
       "      <td>P80003353</td>\n",
       "      <td>Romney, Mitt</td>\n",
       "      <td>JOHNSON, MARK K. MR.</td>\n",
       "      <td>ANCHORAGE</td>\n",
       "      <td>AK</td>\n",
       "      <td>995163436.0</td>\n",
       "      <td>CHUGACH ELECTRIC ASSOCIATION INC.</td>\n",
       "      <td>ATTORNEY</td>\n",
       "      <td>-500.0</td>\n",
       "      <td>2012-07-30</td>\n",
       "      <td>944286</td>\n",
       "      <td>SA17.1085175B</td>\n",
       "      <td>共和党（Republican）</td>\n",
       "    </tr>\n",
       "  </tbody>\n",
       "</table>\n",
       "</div>"
      ],
      "text/plain": [
       "      Unnamed: 0  Unnamed: 0.1  Unnamed: 0.1.1  Unnamed: 0.1.1.1    cmte_id  \\\n",
       "1792        1792          1792            1792              1792  C00431171   \n",
       "2027        2027          2027            2027              2027  C00431171   \n",
       "\n",
       "        cand_id       cand_nm              contbr_nm contbr_city contbr_st  \\\n",
       "1792  P80003353  Romney, Mitt  MORTENSEN, ROBERT DR.  EABLE RNEE        AK   \n",
       "2027  P80003353  Romney, Mitt   JOHNSON, MARK K. MR.   ANCHORAGE        AK   \n",
       "\n",
       "       contbr_zip                    contbr_employer contbr_occupation  \\\n",
       "1792  995778797.0            VETERANS ADMINISTRATION           DENTIST   \n",
       "2027  995163436.0  CHUGACH ELECTRIC ASSOCIATION INC.          ATTORNEY   \n",
       "\n",
       "      contb_receipt_amt contb_receipt_dt  file_num        tran_id  \\\n",
       "1792             -500.0       2012-05-22    944813   SA17.974299B   \n",
       "2027             -500.0       2012-07-30    944286  SA17.1085175B   \n",
       "\n",
       "                party  \n",
       "1792  共和党（Republican）  \n",
       "2027  共和党（Republican）  "
      ]
     },
     "execution_count": 25,
     "metadata": {},
     "output_type": "execute_result"
    }
   ],
   "source": [
    "#查看捐助金额/contb_receipt_amt，从以下结果可以看出，有负有正\n",
    "   \n",
    "PCF_ObamaAndRomney[PCF_ObamaAndRomney.contb_receipt_amt<0][:2]"
   ]
  },
  {
   "cell_type": "code",
   "execution_count": 26,
   "metadata": {},
   "outputs": [
    {
     "data": {
      "text/plain": [
       "True     2857671\n",
       "False      29418\n",
       "Name: contb_receipt_amt, dtype: int64"
      ]
     },
     "execution_count": 26,
     "metadata": {},
     "output_type": "execute_result"
    }
   ],
   "source": [
    "#看看有多少个正的，多少个负的，负数表示的是【退款】\n",
    "(PCF_ObamaAndRomney.contb_receipt_amt > 0).value_counts()\n",
    "\n",
    "   \n",
    "    "
   ]
  },
  {
   "cell_type": "code",
   "execution_count": 27,
   "metadata": {},
   "outputs": [
    {
     "data": {
      "text/plain": [
       "pandas.core.series.Series"
      ]
     },
     "execution_count": 27,
     "metadata": {},
     "output_type": "execute_result"
    }
   ],
   "source": [
    "type(PCF_ObamaAndRomney.contb_receipt_amt)\n",
    " "
   ]
  },
  {
   "cell_type": "markdown",
   "metadata": {},
   "source": [
    "### （5） Obama和Romney数据分析"
   ]
  },
  {
   "cell_type": "markdown",
   "metadata": {},
   "source": [
    "#### 首先， 捐助人的职业分析"
   ]
  },
  {
   "cell_type": "code",
   "execution_count": 28,
   "metadata": {},
   "outputs": [
    {
     "data": {
      "text/plain": [
       "(72237,)"
      ]
     },
     "execution_count": 28,
     "metadata": {},
     "output_type": "execute_result"
    }
   ],
   "source": [
    "#捐助人职业数量\n",
    "PCF_ObamaAndRomney.contbr_occupation.unique().shape"
   ]
  },
  {
   "cell_type": "code",
   "execution_count": 29,
   "metadata": {},
   "outputs": [
    {
     "data": {
      "text/plain": [
       "RETIRED                                   712972\n",
       "INFORMATION REQUESTED PER BEST EFFORTS    163762\n",
       "ATTORNEY                                   93202\n",
       "HOMEMAKER                                  90406\n",
       "PHYSICIAN                                  70250\n",
       "                                           ...  \n",
       "NEWS PUBLISHING EXECUTIVE                      1\n",
       "CO- PRESIDENT                                  1\n",
       "COMMUNITY INVOLVEMENT COORDINA                 1\n",
       "SOFTWARE DEVELODER                             1\n",
       "VICE PRESIDENT, GOV'T AFFAIRS                  1\n",
       "Name: contbr_occupation, Length: 72236, dtype: int64"
      ]
     },
     "execution_count": 29,
     "metadata": {},
     "output_type": "execute_result"
    }
   ],
   "source": [
    "#捐助人职业分布\n",
    "PCF_ObamaAndRomney.contbr_occupation.value_counts()"
   ]
  },
  {
   "cell_type": "code",
   "execution_count": 30,
   "metadata": {},
   "outputs": [
    {
     "name": "stderr",
     "output_type": "stream",
     "text": [
      "C:\\Users\\lenovo\\anaconda3\\lib\\site-packages\\pandas\\core\\generic.py:5494: SettingWithCopyWarning: \n",
      "A value is trying to be set on a copy of a slice from a DataFrame.\n",
      "Try using .loc[row_indexer,col_indexer] = value instead\n",
      "\n",
      "See the caveats in the documentation: https://pandas.pydata.org/pandas-docs/stable/user_guide/indexing.html#returning-a-view-versus-a-copy\n",
      "  self[name] = value\n"
     ]
    }
   ],
   "source": [
    "occ_mapping = {\n",
    "   'INFORMATION REQUESTED PER BEST EFFORTS' : 'NOT PROVIDED',\n",
    "   'INFORMATION REQUESTED' : 'NOT PROVIDED',\n",
    "   'INFORMATION REQUESTED (BEST EFFORTS)' : 'NOT PROVIDED',\n",
    "   'C.E.O.': 'CEO'\n",
    "}\n",
    "\n",
    " \n",
    "f = lambda x: occ_mapping.get(x, x)\n",
    "PCF_ObamaAndRomney.contbr_occupation =PCF_ObamaAndRomney.contbr_occupation.map(f)"
   ]
  },
  {
   "cell_type": "code",
   "execution_count": 31,
   "metadata": {},
   "outputs": [],
   "source": [
    "emp_mapping = {\n",
    "   'INFORMATION REQUESTED PER BEST EFFORTS' : 'NOT PROVIDED',\n",
    "   'INFORMATION REQUESTED' : 'NOT PROVIDED',\n",
    "   'SELF' : 'SELF-EMPLOYED',\n",
    "   'SELF EMPLOYED' : 'SELF-EMPLOYED',\n",
    "}\n",
    "\n",
    " \n",
    "f = lambda x: emp_mapping.get(x, x)\n",
    "PCF_ObamaAndRomney.contbr_employer =PCF_ObamaAndRomney.contbr_employer.map(f)"
   ]
  },
  {
   "cell_type": "code",
   "execution_count": 32,
   "metadata": {},
   "outputs": [
    {
     "data": {
      "text/html": [
       "<div>\n",
       "<style scoped>\n",
       "    .dataframe tbody tr th:only-of-type {\n",
       "        vertical-align: middle;\n",
       "    }\n",
       "\n",
       "    .dataframe tbody tr th {\n",
       "        vertical-align: top;\n",
       "    }\n",
       "\n",
       "    .dataframe thead th {\n",
       "        text-align: right;\n",
       "    }\n",
       "</style>\n",
       "<table border=\"1\" class=\"dataframe\">\n",
       "  <thead>\n",
       "    <tr style=\"text-align: right;\">\n",
       "      <th>party</th>\n",
       "      <th>共和党（Republican）</th>\n",
       "      <th>民主党（Democrat）</th>\n",
       "    </tr>\n",
       "    <tr>\n",
       "      <th>contbr_occupation</th>\n",
       "      <th></th>\n",
       "      <th></th>\n",
       "    </tr>\n",
       "  </thead>\n",
       "  <tbody>\n",
       "    <tr>\n",
       "      <th>ATTORNEY</th>\n",
       "      <td>2.662006e+07</td>\n",
       "      <td>11235505.16</td>\n",
       "    </tr>\n",
       "    <tr>\n",
       "      <th>CEO</th>\n",
       "      <td>1.373254e+07</td>\n",
       "      <td>1537996.04</td>\n",
       "    </tr>\n",
       "    <tr>\n",
       "      <th>CONSULTANT</th>\n",
       "      <td>8.880296e+06</td>\n",
       "      <td>2985421.90</td>\n",
       "    </tr>\n",
       "    <tr>\n",
       "      <th>EXECUTIVE</th>\n",
       "      <td>1.412981e+07</td>\n",
       "      <td>1235116.42</td>\n",
       "    </tr>\n",
       "    <tr>\n",
       "      <th>HOMEMAKER</th>\n",
       "      <td>4.317627e+07</td>\n",
       "      <td>4175502.01</td>\n",
       "    </tr>\n",
       "    <tr>\n",
       "      <th>NONE</th>\n",
       "      <td>1.199093e+07</td>\n",
       "      <td>15410.75</td>\n",
       "    </tr>\n",
       "    <tr>\n",
       "      <th>NOT PROVIDED</th>\n",
       "      <td>7.902636e+07</td>\n",
       "      <td>5964188.44</td>\n",
       "    </tr>\n",
       "    <tr>\n",
       "      <th>PHYSICIAN</th>\n",
       "      <td>1.938542e+07</td>\n",
       "      <td>4380978.76</td>\n",
       "    </tr>\n",
       "    <tr>\n",
       "      <th>PRESIDENT</th>\n",
       "      <td>1.489282e+07</td>\n",
       "      <td>1474465.00</td>\n",
       "    </tr>\n",
       "    <tr>\n",
       "      <th>RETIRED</th>\n",
       "      <td>1.172347e+08</td>\n",
       "      <td>32761358.05</td>\n",
       "    </tr>\n",
       "    <tr>\n",
       "      <th>SELF-EMPLOYED</th>\n",
       "      <td>1.101001e+07</td>\n",
       "      <td>910705.11</td>\n",
       "    </tr>\n",
       "  </tbody>\n",
       "</table>\n",
       "</div>"
      ],
      "text/plain": [
       "party              共和党（Republican）  民主党（Democrat）\n",
       "contbr_occupation                                \n",
       "ATTORNEY              2.662006e+07    11235505.16\n",
       "CEO                   1.373254e+07     1537996.04\n",
       "CONSULTANT            8.880296e+06     2985421.90\n",
       "EXECUTIVE             1.412981e+07     1235116.42\n",
       "HOMEMAKER             4.317627e+07     4175502.01\n",
       "NONE                  1.199093e+07       15410.75\n",
       "NOT PROVIDED          7.902636e+07     5964188.44\n",
       "PHYSICIAN             1.938542e+07     4380978.76\n",
       "PRESIDENT             1.489282e+07     1474465.00\n",
       "RETIRED               1.172347e+08    32761358.05\n",
       "SELF-EMPLOYED         1.101001e+07      910705.11"
      ]
     },
     "execution_count": 32,
     "metadata": {},
     "output_type": "execute_result"
    }
   ],
   "source": [
    " \n",
    "by_occupation = PCF_ObamaAndRomney.pivot_table('contb_receipt_amt',\n",
    "                                index='contbr_occupation',\n",
    "                                columns='party', \n",
    "                                aggfunc='sum')\n",
    "over_2mm = by_occupation[by_occupation.sum(1) > 10000000]\n",
    "over_2mm\n",
    " "
   ]
  },
  {
   "cell_type": "code",
   "execution_count": 33,
   "metadata": {},
   "outputs": [
    {
     "data": {
      "text/plain": [
       "<Figure size 432x288 with 0 Axes>"
      ]
     },
     "execution_count": 33,
     "metadata": {},
     "output_type": "execute_result"
    },
    {
     "data": {
      "text/plain": [
       "<Figure size 432x288 with 0 Axes>"
      ]
     },
     "metadata": {},
     "output_type": "display_data"
    }
   ],
   "source": [
    "#可视化\n",
    "import matplotlib.pyplot as plt\n",
    "#%matplotlib inline\n",
    "plt.figure()  "
   ]
  },
  {
   "cell_type": "code",
   "execution_count": 34,
   "metadata": {},
   "outputs": [
    {
     "data": {
      "text/plain": [
       "<AxesSubplot:ylabel='contbr_occupation'>"
      ]
     },
     "execution_count": 34,
     "metadata": {},
     "output_type": "execute_result"
    },
    {
     "data": {
      "image/png": "[encoded data removed]",
      "text/plain": [
       "<Figure size 432x288 with 1 Axes>"
      ]
     },
     "metadata": {
      "needs_background": "light"
     },
     "output_type": "display_data"
    }
   ],
   "source": [
    "plt.rcParams['font.family']=\"SimHei\" \n",
    "over_2mm.plot(kind='barh')"
   ]
  },
  {
   "cell_type": "code",
   "execution_count": 35,
   "metadata": {},
   "outputs": [],
   "source": [
    "def get_top_amounts(group, key, n=3):\n",
    "    totals = group.groupby(key)['contb_receipt_amt'].sum()\n",
    "    return totals.nlargest(n)\n",
    "     "
   ]
  },
  {
   "cell_type": "code",
   "execution_count": 36,
   "metadata": {
    "scrolled": true
   },
   "outputs": [
    {
     "data": {
      "text/plain": [
       "cand_nm        contbr_employer         \n",
       "Obama, Barack  RETIRED                     2.622969e+07\n",
       "               SELF-EMPLOYED               2.622693e+07\n",
       "               NOT EMPLOYED                1.440906e+07\n",
       "               NOT PROVIDED                6.393904e+06\n",
       "               HOMEMAKER                   1.824585e+06\n",
       "               STANFORD UNIVERSITY         4.908628e+05\n",
       "               UNIVERSITY OF CALIFORNIA    4.596524e+05\n",
       "               GOOGLE                      4.346403e+05\n",
       "               UCLA                        3.669520e+05\n",
       "               STATE OF CALIFORNIA         3.162020e+05\n",
       "Romney, Mitt   RETIRED                     1.149723e+08\n",
       "               NOT PROVIDED                8.394155e+07\n",
       "               SELF-EMPLOYED               6.502492e+07\n",
       "               HOMEMAKER                   4.259132e+07\n",
       "               NONE                        1.521782e+07\n",
       "               ENTREPRENEUR                1.791544e+06\n",
       "               STUDENT                     1.530936e+06\n",
       "               MORGAN STANLEY              9.773291e+05\n",
       "               CREDIT SUISSE               8.491280e+05\n",
       "               MERRILL LYNCH               6.016347e+05\n",
       "Name: contb_receipt_amt, dtype: float64"
      ]
     },
     "execution_count": 36,
     "metadata": {},
     "output_type": "execute_result"
    }
   ],
   "source": [
    "grouped = PCF_ObamaAndRomney.groupby('cand_nm')\n",
    "grouped.apply(get_top_amounts, 'contbr_occupation', n=10)\n",
    "grouped.apply(get_top_amounts, 'contbr_employer', n=10)"
   ]
  },
  {
   "cell_type": "markdown",
   "metadata": {},
   "source": [
    "#### 其次， 捐助金额分析 Bucketing Donation Amounts"
   ]
  },
  {
   "cell_type": "code",
   "execution_count": 37,
   "metadata": {},
   "outputs": [
    {
     "data": {
      "text/plain": [
       "411    (100, 1000]\n",
       "412      (10, 100]\n",
       "413    (100, 1000]\n",
       "414    (100, 1000]\n",
       "415    (100, 1000]\n",
       "416    (100, 1000]\n",
       "417      (10, 100]\n",
       "418    (100, 1000]\n",
       "419    (100, 1000]\n",
       "420      (10, 100]\n",
       "Name: contb_receipt_amt, dtype: category\n",
       "Categories (8, interval[int64]): [(0, 1] < (1, 10] < (10, 100] < (100, 1000] < (1000, 10000] < (10000, 100000] < (100000, 1000000] < (1000000, 10000000]]"
      ]
     },
     "execution_count": 37,
     "metadata": {},
     "output_type": "execute_result"
    }
   ],
   "source": [
    "import numpy as np\n",
    "bins = np.array([0, 1, 10, 100, 1000, 10000,\n",
    "                 100000, 1000000, 10000000])\n",
    "labels = pd.cut(PCF_ObamaAndRomney.contb_receipt_amt, bins)\n",
    "labels[:10]\n",
    "    "
   ]
  },
  {
   "cell_type": "code",
   "execution_count": 38,
   "metadata": {},
   "outputs": [
    {
     "data": {
      "text/html": [
       "<div>\n",
       "<style scoped>\n",
       "    .dataframe tbody tr th:only-of-type {\n",
       "        vertical-align: middle;\n",
       "    }\n",
       "\n",
       "    .dataframe tbody tr th {\n",
       "        vertical-align: top;\n",
       "    }\n",
       "\n",
       "    .dataframe thead th {\n",
       "        text-align: right;\n",
       "    }\n",
       "</style>\n",
       "<table border=\"1\" class=\"dataframe\">\n",
       "  <thead>\n",
       "    <tr style=\"text-align: right;\">\n",
       "      <th>cand_nm</th>\n",
       "      <th>Obama, Barack</th>\n",
       "      <th>Romney, Mitt</th>\n",
       "    </tr>\n",
       "    <tr>\n",
       "      <th>contb_receipt_amt</th>\n",
       "      <th></th>\n",
       "      <th></th>\n",
       "    </tr>\n",
       "  </thead>\n",
       "  <tbody>\n",
       "    <tr>\n",
       "      <th>(0, 1]</th>\n",
       "      <td>269</td>\n",
       "      <td>582</td>\n",
       "    </tr>\n",
       "    <tr>\n",
       "      <th>(1, 10]</th>\n",
       "      <td>125053</td>\n",
       "      <td>38335</td>\n",
       "    </tr>\n",
       "    <tr>\n",
       "      <th>(10, 100]</th>\n",
       "      <td>928242</td>\n",
       "      <td>749228</td>\n",
       "    </tr>\n",
       "    <tr>\n",
       "      <th>(100, 1000]</th>\n",
       "      <td>208516</td>\n",
       "      <td>633364</td>\n",
       "    </tr>\n",
       "    <tr>\n",
       "      <th>(1000, 10000]</th>\n",
       "      <td>19109</td>\n",
       "      <td>154963</td>\n",
       "    </tr>\n",
       "    <tr>\n",
       "      <th>(10000, 100000]</th>\n",
       "      <td>3</td>\n",
       "      <td>6</td>\n",
       "    </tr>\n",
       "    <tr>\n",
       "      <th>(100000, 1000000]</th>\n",
       "      <td>1</td>\n",
       "      <td>0</td>\n",
       "    </tr>\n",
       "    <tr>\n",
       "      <th>(1000000, 10000000]</th>\n",
       "      <td>0</td>\n",
       "      <td>0</td>\n",
       "    </tr>\n",
       "  </tbody>\n",
       "</table>\n",
       "</div>"
      ],
      "text/plain": [
       "cand_nm              Obama, Barack  Romney, Mitt\n",
       "contb_receipt_amt                               \n",
       "(0, 1]                         269           582\n",
       "(1, 10]                     125053         38335\n",
       "(10, 100]                   928242        749228\n",
       "(100, 1000]                 208516        633364\n",
       "(1000, 10000]                19109        154963\n",
       "(10000, 100000]                  3             6\n",
       "(100000, 1000000]                1             0\n",
       "(1000000, 10000000]              0             0"
      ]
     },
     "execution_count": 38,
     "metadata": {},
     "output_type": "execute_result"
    }
   ],
   "source": [
    "grouped = PCF_ObamaAndRomney.groupby(['cand_nm', labels])\n",
    "grouped.size().unstack(0)\n",
    " "
   ]
  },
  {
   "cell_type": "code",
   "execution_count": 39,
   "metadata": {},
   "outputs": [
    {
     "data": {
      "text/plain": [
       "<Figure size 432x288 with 0 Axes>"
      ]
     },
     "execution_count": 39,
     "metadata": {},
     "output_type": "execute_result"
    },
    {
     "data": {
      "text/plain": [
       "<Figure size 432x288 with 0 Axes>"
      ]
     },
     "metadata": {},
     "output_type": "display_data"
    }
   ],
   "source": [
    "plt.figure()"
   ]
  },
  {
   "cell_type": "code",
   "execution_count": 40,
   "metadata": {},
   "outputs": [
    {
     "data": {
      "text/plain": [
       "<AxesSubplot:ylabel='contb_receipt_amt'>"
      ]
     },
     "execution_count": 40,
     "metadata": {},
     "output_type": "execute_result"
    },
    {
     "data": {
      "image/png": "[encoded data removed]",
      "text/plain": [
       "<Figure size 432x288 with 1 Axes>"
      ]
     },
     "metadata": {
      "needs_background": "light"
     },
     "output_type": "display_data"
    }
   ],
   "source": [
    "bucket_sums = grouped.contb_receipt_amt.sum().unstack(0)\n",
    "normed_sums = bucket_sums.div(bucket_sums.sum(axis=1), axis=0)\n",
    "normed_sums\n",
    "normed_sums[:-2].plot(kind='barh')"
   ]
  },
  {
   "cell_type": "markdown",
   "metadata": {},
   "source": [
    "#### 接着，捐助时间分析"
   ]
  },
  {
   "cell_type": "code",
   "execution_count": 41,
   "metadata": {},
   "outputs": [],
   "source": [
    "#合并【同日】的捐款数据\n",
    "Romney = PCF_ObamaAndRomney[PCF_ObamaAndRomney.cand_nm=='Romney, Mitt'].groupby(\"contb_receipt_dt\")[\"contb_receipt_amt\"].sum()\n",
    "Obama = PCF_ObamaAndRomney[PCF_ObamaAndRomney.cand_nm=='Obama, Barack'].groupby(\"contb_receipt_dt\")[\"contb_receipt_amt\"].sum()\n",
    "   \n",
    "BothofThem=PCF_ObamaAndRomney.groupby(\"contb_receipt_dt\")[\"contb_receipt_amt\"].sum()"
   ]
  },
  {
   "cell_type": "code",
   "execution_count": 42,
   "metadata": {},
   "outputs": [
    {
     "data": {
      "text/plain": [
       "numpy.ndarray"
      ]
     },
     "execution_count": 42,
     "metadata": {},
     "output_type": "execute_result"
    }
   ],
   "source": [
    "#试验\n",
    "BothofThem.shape,Obama.shape, Romney.shape\n",
    "BothofThem.index\n",
    "PCF_ObamaAndRomney[\"contb_receipt_dt\"].values\n",
    "type(PCF_ObamaAndRomney[\"contb_receipt_dt\"].values)\n",
    "     \n"
   ]
  },
  {
   "cell_type": "code",
   "execution_count": 43,
   "metadata": {},
   "outputs": [
    {
     "data": {
      "text/plain": [
       "[<matplotlib.lines.Line2D at 0x248197da850>]"
      ]
     },
     "execution_count": 43,
     "metadata": {},
     "output_type": "execute_result"
    },
    {
     "data": {
      "image/png": "[encoded data removed]",
      "text/plain": [
       "<Figure size 432x288 with 1 Axes>"
      ]
     },
     "metadata": {
      "needs_background": "light"
     },
     "output_type": "display_data"
    }
   ],
   "source": [
    "import matplotlib.pyplot as plt\n",
    "%matplotlib inline\n",
    "plt.plot(BothofThem.index,BothofThem.values,c=\"blue\",label=\"Both\")\n",
    "plt.plot(Obama.index,Obama.values,c=\"red\",label=\"Obama\")\n",
    "plt.plot(Romney.index,Romney.values,c=\"green\",label=\"Romney\")\n"
   ]
  },
  {
   "cell_type": "code",
   "execution_count": 44,
   "metadata": {},
   "outputs": [
    {
     "name": "stderr",
     "output_type": "stream",
     "text": [
      "C:\\Users\\lenovo\\anaconda3\\lib\\site-packages\\pandas\\core\\generic.py:5494: SettingWithCopyWarning: \n",
      "A value is trying to be set on a copy of a slice from a DataFrame.\n",
      "Try using .loc[row_indexer,col_indexer] = value instead\n",
      "\n",
      "See the caveats in the documentation: https://pandas.pydata.org/pandas-docs/stable/user_guide/indexing.html#returning-a-view-versus-a-copy\n",
      "  self[name] = value\n"
     ]
    },
    {
     "data": {
      "text/html": [
       "<div>\n",
       "<style scoped>\n",
       "    .dataframe tbody tr th:only-of-type {\n",
       "        vertical-align: middle;\n",
       "    }\n",
       "\n",
       "    .dataframe tbody tr th {\n",
       "        vertical-align: top;\n",
       "    }\n",
       "\n",
       "    .dataframe thead th {\n",
       "        text-align: right;\n",
       "    }\n",
       "</style>\n",
       "<table border=\"1\" class=\"dataframe\">\n",
       "  <thead>\n",
       "    <tr style=\"text-align: right;\">\n",
       "      <th></th>\n",
       "      <th>Unnamed: 0</th>\n",
       "      <th>Unnamed: 0.1</th>\n",
       "      <th>Unnamed: 0.1.1</th>\n",
       "      <th>Unnamed: 0.1.1.1</th>\n",
       "      <th>cmte_id</th>\n",
       "      <th>cand_id</th>\n",
       "      <th>cand_nm</th>\n",
       "      <th>contbr_nm</th>\n",
       "      <th>contbr_city</th>\n",
       "      <th>contbr_st</th>\n",
       "      <th>contbr_zip</th>\n",
       "      <th>contbr_employer</th>\n",
       "      <th>contbr_occupation</th>\n",
       "      <th>contb_receipt_amt</th>\n",
       "      <th>contb_receipt_dt</th>\n",
       "      <th>file_num</th>\n",
       "      <th>tran_id</th>\n",
       "      <th>party</th>\n",
       "    </tr>\n",
       "  </thead>\n",
       "  <tbody>\n",
       "    <tr>\n",
       "      <th>411</th>\n",
       "      <td>411</td>\n",
       "      <td>411</td>\n",
       "      <td>411</td>\n",
       "      <td>411</td>\n",
       "      <td>C00431171</td>\n",
       "      <td>P80003353</td>\n",
       "      <td>Romney, Mitt</td>\n",
       "      <td>CLARK, MICHAEL</td>\n",
       "      <td>FORT MEYERS</td>\n",
       "      <td>33</td>\n",
       "      <td>33908.0</td>\n",
       "      <td>RETIRED</td>\n",
       "      <td>NONE</td>\n",
       "      <td>200.0</td>\n",
       "      <td>2012-09</td>\n",
       "      <td>822044</td>\n",
       "      <td>SA17.2726391</td>\n",
       "      <td>共和党（Republican）</td>\n",
       "    </tr>\n",
       "    <tr>\n",
       "      <th>412</th>\n",
       "      <td>412</td>\n",
       "      <td>412</td>\n",
       "      <td>412</td>\n",
       "      <td>412</td>\n",
       "      <td>C00431171</td>\n",
       "      <td>P80003353</td>\n",
       "      <td>Romney, Mitt</td>\n",
       "      <td>CALIENES, GLADYS MS.</td>\n",
       "      <td>GABLES</td>\n",
       "      <td>33</td>\n",
       "      <td>33146.0</td>\n",
       "      <td>NOT PROVIDED</td>\n",
       "      <td>NOT PROVIDED</td>\n",
       "      <td>100.0</td>\n",
       "      <td>2012-09</td>\n",
       "      <td>822044</td>\n",
       "      <td>SA17.2588087</td>\n",
       "      <td>共和党（Republican）</td>\n",
       "    </tr>\n",
       "  </tbody>\n",
       "</table>\n",
       "</div>"
      ],
      "text/plain": [
       "     Unnamed: 0  Unnamed: 0.1  Unnamed: 0.1.1  Unnamed: 0.1.1.1    cmte_id  \\\n",
       "411         411           411             411               411  C00431171   \n",
       "412         412           412             412               412  C00431171   \n",
       "\n",
       "       cand_id       cand_nm             contbr_nm  contbr_city contbr_st  \\\n",
       "411  P80003353  Romney, Mitt        CLARK, MICHAEL  FORT MEYERS        33   \n",
       "412  P80003353  Romney, Mitt  CALIENES, GLADYS MS.       GABLES        33   \n",
       "\n",
       "    contbr_zip contbr_employer contbr_occupation  contb_receipt_amt  \\\n",
       "411    33908.0         RETIRED              NONE              200.0   \n",
       "412    33146.0    NOT PROVIDED      NOT PROVIDED              100.0   \n",
       "\n",
       "    contb_receipt_dt  file_num       tran_id            party  \n",
       "411          2012-09    822044  SA17.2726391  共和党（Republican）  \n",
       "412          2012-09    822044  SA17.2588087  共和党（Republican）  "
      ]
     },
     "execution_count": 44,
     "metadata": {},
     "output_type": "execute_result"
    }
   ],
   "source": [
    "#上图是以“日”为单位计算的，显示效果并不清楚\n",
    "   \n",
    "import datetime as dt\n",
    "PCF_ObamaAndRomney.contb_receipt_dt=PCF_ObamaAndRomney.contb_receipt_dt.dt.to_period('m')\n",
    "    \n",
    "    \n",
    "PCF_ObamaAndRomney.head(2)"
   ]
  },
  {
   "cell_type": "code",
   "execution_count": 45,
   "metadata": {},
   "outputs": [],
   "source": [
    "#合并【同月】的捐款数据\n",
    "Romney = PCF_ObamaAndRomney[PCF_ObamaAndRomney.cand_nm=='Romney, Mitt'].groupby(\"contb_receipt_dt\")[\"contb_receipt_amt\"].sum()\n",
    "Obama = PCF_ObamaAndRomney[PCF_ObamaAndRomney.cand_nm=='Obama, Barack'].groupby(\"contb_receipt_dt\")[\"contb_receipt_amt\"].sum()\n",
    "  \n",
    "    \n",
    "BothofThem=PCF_ObamaAndRomney.groupby(\"contb_receipt_dt\")[\"contb_receipt_amt\"].sum()"
   ]
  },
  {
   "cell_type": "code",
   "execution_count": 46,
   "metadata": {},
   "outputs": [
    {
     "data": {
      "text/plain": [
       "<AxesSubplot:xlabel='contb_receipt_dt'>"
      ]
     },
     "execution_count": 46,
     "metadata": {},
     "output_type": "execute_result"
    },
    {
     "data": {
      "image/png": "[encoded data removed]",
      "text/plain": [
       "<Figure size 432x288 with 1 Axes>"
      ]
     },
     "metadata": {
      "needs_background": "light"
     },
     "output_type": "display_data"
    }
   ],
   "source": [
    "BothofThem.plot(color='green',label=\"Both\")\n",
    "Obama.plot(color='red',label=\"Obama\")\n",
    "Romney.plot(color='blue',label=\"Romney\")\n",
    "   "
   ]
  },
  {
   "cell_type": "markdown",
   "metadata": {},
   "source": [
    "#### 最后， 捐助人所在省份分析Donation Statistics by State"
   ]
  },
  {
   "cell_type": "code",
   "execution_count": 47,
   "metadata": {},
   "outputs": [
    {
     "data": {
      "text/html": [
       "<div>\n",
       "<style scoped>\n",
       "    .dataframe tbody tr th:only-of-type {\n",
       "        vertical-align: middle;\n",
       "    }\n",
       "\n",
       "    .dataframe tbody tr th {\n",
       "        vertical-align: top;\n",
       "    }\n",
       "\n",
       "    .dataframe thead th {\n",
       "        text-align: right;\n",
       "    }\n",
       "</style>\n",
       "<table border=\"1\" class=\"dataframe\">\n",
       "  <thead>\n",
       "    <tr style=\"text-align: right;\">\n",
       "      <th>cand_nm</th>\n",
       "      <th>Obama, Barack</th>\n",
       "      <th>Romney, Mitt</th>\n",
       "    </tr>\n",
       "    <tr>\n",
       "      <th>contbr_st</th>\n",
       "      <th></th>\n",
       "      <th></th>\n",
       "    </tr>\n",
       "  </thead>\n",
       "  <tbody>\n",
       "    <tr>\n",
       "      <th>AA</th>\n",
       "      <td>186369.00</td>\n",
       "      <td>5076.00</td>\n",
       "    </tr>\n",
       "    <tr>\n",
       "      <th>AE</th>\n",
       "      <td>224172.52</td>\n",
       "      <td>59438.90</td>\n",
       "    </tr>\n",
       "    <tr>\n",
       "      <th>AK</th>\n",
       "      <td>1361557.02</td>\n",
       "      <td>1413212.99</td>\n",
       "    </tr>\n",
       "    <tr>\n",
       "      <th>AL</th>\n",
       "      <td>2263580.07</td>\n",
       "      <td>7407600.48</td>\n",
       "    </tr>\n",
       "    <tr>\n",
       "      <th>AP</th>\n",
       "      <td>128649.55</td>\n",
       "      <td>32068.00</td>\n",
       "    </tr>\n",
       "    <tr>\n",
       "      <th>AR</th>\n",
       "      <td>1274816.73</td>\n",
       "      <td>3440714.03</td>\n",
       "    </tr>\n",
       "    <tr>\n",
       "      <th>AZ</th>\n",
       "      <td>6504954.41</td>\n",
       "      <td>13812313.41</td>\n",
       "    </tr>\n",
       "    <tr>\n",
       "      <th>CA</th>\n",
       "      <td>91715283.62</td>\n",
       "      <td>75999972.75</td>\n",
       "    </tr>\n",
       "    <tr>\n",
       "      <th>CO</th>\n",
       "      <td>11087619.81</td>\n",
       "      <td>16288069.53</td>\n",
       "    </tr>\n",
       "    <tr>\n",
       "      <th>CT</th>\n",
       "      <td>8302040.42</td>\n",
       "      <td>16332773.75</td>\n",
       "    </tr>\n",
       "  </tbody>\n",
       "</table>\n",
       "</div>"
      ],
      "text/plain": [
       "cand_nm    Obama, Barack  Romney, Mitt\n",
       "contbr_st                             \n",
       "AA             186369.00       5076.00\n",
       "AE             224172.52      59438.90\n",
       "AK            1361557.02    1413212.99\n",
       "AL            2263580.07    7407600.48\n",
       "AP             128649.55      32068.00\n",
       "AR            1274816.73    3440714.03\n",
       "AZ            6504954.41   13812313.41\n",
       "CA           91715283.62   75999972.75\n",
       "CO           11087619.81   16288069.53\n",
       "CT            8302040.42   16332773.75"
      ]
     },
     "execution_count": 47,
     "metadata": {},
     "output_type": "execute_result"
    }
   ],
   "source": [
    "#新增在地图上显示\n",
    "grouped = PCF_ObamaAndRomney.groupby(['cand_nm', 'contbr_st'])\n",
    "totals = grouped.contb_receipt_amt.sum().unstack(0).fillna(0)\n",
    "totals = totals[totals.sum(1) > 100000]\n",
    "totals[:10]"
   ]
  },
  {
   "cell_type": "code",
   "execution_count": 48,
   "metadata": {},
   "outputs": [
    {
     "data": {
      "text/html": [
       "<div>\n",
       "<style scoped>\n",
       "    .dataframe tbody tr th:only-of-type {\n",
       "        vertical-align: middle;\n",
       "    }\n",
       "\n",
       "    .dataframe tbody tr th {\n",
       "        vertical-align: top;\n",
       "    }\n",
       "\n",
       "    .dataframe thead th {\n",
       "        text-align: right;\n",
       "    }\n",
       "</style>\n",
       "<table border=\"1\" class=\"dataframe\">\n",
       "  <thead>\n",
       "    <tr style=\"text-align: right;\">\n",
       "      <th>cand_nm</th>\n",
       "      <th>Obama, Barack</th>\n",
       "      <th>Romney, Mitt</th>\n",
       "    </tr>\n",
       "    <tr>\n",
       "      <th>contbr_st</th>\n",
       "      <th></th>\n",
       "      <th></th>\n",
       "    </tr>\n",
       "  </thead>\n",
       "  <tbody>\n",
       "    <tr>\n",
       "      <th>AA</th>\n",
       "      <td>0.973486</td>\n",
       "      <td>0.026514</td>\n",
       "    </tr>\n",
       "    <tr>\n",
       "      <th>AE</th>\n",
       "      <td>0.790421</td>\n",
       "      <td>0.209579</td>\n",
       "    </tr>\n",
       "    <tr>\n",
       "      <th>AK</th>\n",
       "      <td>0.490692</td>\n",
       "      <td>0.509308</td>\n",
       "    </tr>\n",
       "    <tr>\n",
       "      <th>AL</th>\n",
       "      <td>0.234054</td>\n",
       "      <td>0.765946</td>\n",
       "    </tr>\n",
       "    <tr>\n",
       "      <th>AP</th>\n",
       "      <td>0.800470</td>\n",
       "      <td>0.199530</td>\n",
       "    </tr>\n",
       "    <tr>\n",
       "      <th>AR</th>\n",
       "      <td>0.270344</td>\n",
       "      <td>0.729656</td>\n",
       "    </tr>\n",
       "    <tr>\n",
       "      <th>AZ</th>\n",
       "      <td>0.320169</td>\n",
       "      <td>0.679831</td>\n",
       "    </tr>\n",
       "    <tr>\n",
       "      <th>CA</th>\n",
       "      <td>0.546851</td>\n",
       "      <td>0.453149</td>\n",
       "    </tr>\n",
       "    <tr>\n",
       "      <th>CO</th>\n",
       "      <td>0.405017</td>\n",
       "      <td>0.594983</td>\n",
       "    </tr>\n",
       "    <tr>\n",
       "      <th>CT</th>\n",
       "      <td>0.337004</td>\n",
       "      <td>0.662996</td>\n",
       "    </tr>\n",
       "  </tbody>\n",
       "</table>\n",
       "</div>"
      ],
      "text/plain": [
       "cand_nm    Obama, Barack  Romney, Mitt\n",
       "contbr_st                             \n",
       "AA              0.973486      0.026514\n",
       "AE              0.790421      0.209579\n",
       "AK              0.490692      0.509308\n",
       "AL              0.234054      0.765946\n",
       "AP              0.800470      0.199530\n",
       "AR              0.270344      0.729656\n",
       "AZ              0.320169      0.679831\n",
       "CA              0.546851      0.453149\n",
       "CO              0.405017      0.594983\n",
       "CT              0.337004      0.662996"
      ]
     },
     "execution_count": 48,
     "metadata": {},
     "output_type": "execute_result"
    }
   ],
   "source": [
    "percent = totals.div(totals.sum(1), axis=0)\n",
    "percent[:10]"
   ]
  },
  {
   "cell_type": "code",
   "execution_count": 49,
   "metadata": {},
   "outputs": [],
   "source": [
    "percent.to_csv(\"percent.csv\")"
   ]
  },
  {
   "cell_type": "markdown",
   "metadata": {},
   "source": [
    "#### （6）结果可视化"
   ]
  },
  {
   "cell_type": "code",
   "execution_count": 54,
   "metadata": {},
   "outputs": [
    {
     "ename": "ModuleNotFoundError",
     "evalue": "No module named 'basemap'",
     "output_type": "error",
     "traceback": [
      "\u001b[1;31m---------------------------------------------------------------------------\u001b[0m",
      "\u001b[1;31mModuleNotFoundError\u001b[0m                       Traceback (most recent call last)",
      "\u001b[1;32m<ipython-input-54-a70a05aa5cd4>\u001b[0m in \u001b[0;36m<module>\u001b[1;34m\u001b[0m\n\u001b[0;32m      1\u001b[0m \u001b[1;31m#from mpl_toolkits.basemap import Basemap\u001b[0m\u001b[1;33m\u001b[0m\u001b[1;33m\u001b[0m\u001b[1;33m\u001b[0m\u001b[0m\n\u001b[1;32m----> 2\u001b[1;33m \u001b[1;32mimport\u001b[0m \u001b[0mbasemap\u001b[0m\u001b[1;33m\u001b[0m\u001b[1;33m\u001b[0m\u001b[0m\n\u001b[0m\u001b[0;32m      3\u001b[0m \u001b[1;32mimport\u001b[0m \u001b[0mnumpy\u001b[0m \u001b[1;32mas\u001b[0m \u001b[0mnp\u001b[0m\u001b[1;33m\u001b[0m\u001b[1;33m\u001b[0m\u001b[0m\n\u001b[0;32m      4\u001b[0m \u001b[1;32mimport\u001b[0m \u001b[0mpandas\u001b[0m \u001b[1;32mas\u001b[0m \u001b[0mpd\u001b[0m\u001b[1;33m\u001b[0m\u001b[1;33m\u001b[0m\u001b[0m\n\u001b[0;32m      5\u001b[0m \u001b[1;32mimport\u001b[0m \u001b[0mmatplotlib\u001b[0m \u001b[1;32mas\u001b[0m \u001b[0mmpl\u001b[0m\u001b[1;33m\u001b[0m\u001b[1;33m\u001b[0m\u001b[0m\n",
      "\u001b[1;31mModuleNotFoundError\u001b[0m: No module named 'basemap'"
     ]
    }
   ],
   "source": [
    "#from mpl_toolkits.basemap import Basemap\n",
    "import basemap\n",
    "import numpy as np\n",
    "import pandas as pd\n",
    "import matplotlib as mpl\n",
    "import matplotlib.pyplot as plt\n",
    "from matplotlib.patches import Polygon\n",
    "\n",
    "fig = plt.figure()\n",
    "ax1 = fig.add_axes([0.1,0.1,0.8,0.8])\n",
    "\n",
    "# 绘制基础地图，选择绘制的区域——美国本土，选取如下经纬度\n",
    "map = Basemap(projection='stere',lat_0=90,lon_0=-105,\n",
    "            llcrnrlat=23.41 ,urcrnrlat=45.44,\n",
    "            llcrnrlon=-118.67,urcrnrlon=-64.52,\n",
    "            rsphere=6371200.,resolution='l',area_thresh=10000,ax=ax1)\n",
    "\n",
    "# 读取美国地图文件，并显示州\n",
    "shp_info = map.readshapefile('gadm36_USA_shp/gadm36_USA_1','states',drawbounds=True)\n",
    "\n",
    "# 大选投票结果\n",
    "elecResults = pd.read_csv('percent.csv')\n",
    "# 根据各州选举结果，按照候选人分类\n",
    "Oba = []\n",
    "Rom = []\n",
    "for i in range(len(elecResults)):\n",
    "    if elecResults['Obama, Barack'][i] > 0.5:\n",
    "        Oba.append(elecResults['contbr_st'][i])\n",
    "    else:\n",
    "        Rom.append(elecResults['contbr_st'][i])\n",
    "\n",
    "# 绘图，\n",
    "for info, shp in zip(map.states_info, map.states):\n",
    "    proid = info['HASC_1'][3:]\n",
    "    # 奥巴马是民主党候选人，蓝色表示支持民主党\n",
    "    if proid in Oba:\n",
    "        poly = Polygon(shp,facecolor='b',lw=3)\n",
    "        ax1.add_patch(poly)          \n",
    "    # 罗姆尼是共和党候选人，红色表示支持共和党\n",
    "    if proid in Rom:\n",
    "        poly = Polygon(shp,facecolor='r',lw=3)\n",
    "        ax1.add_patch(poly)       \n",
    "\n",
    "plt.title('USA Presidential Election Results')\n",
    "plt.show()"
   ]
  },
  {
   "cell_type": "code",
   "execution_count": null,
   "metadata": {},
   "outputs": [],
   "source": [
    "#!pip install  Basemap"
   ]
  },
  {
   "cell_type": "code",
   "execution_count": null,
   "metadata": {},
   "outputs": [],
   "source": [
    "#!conda install basemap"
   ]
  },
  {
   "cell_type": "code",
   "execution_count": 1,
   "metadata": {},
   "outputs": [
    {
     "name": "stdout",
     "output_type": "stream",
     "text": [
      "Package                            Version\n",
      "---------------------------------- -------------------\n",
      "absl-py                            0.15.0\n",
      "alabaster                          0.7.12\n",
      "anaconda-client                    1.7.2\n",
      "anaconda-navigator                 2.0.3\n",
      "anaconda-project                   0.9.1\n",
      "anyio                              2.2.0\n",
      "appdirs                            1.4.4\n",
      "argh                               0.26.2\n",
      "argon2-cffi                        20.1.0\n",
      "asn1crypto                         1.4.0\n",
      "astroid                            2.5\n",
      "astropy                            4.2.1\n",
      "astunparse                         1.6.3\n",
      "async-generator                    1.10\n",
      "atomicwrites                       1.4.0\n",
      "attrs                              20.3.0\n",
      "autopep8                           1.5.6\n",
      "Babel                              2.9.0\n",
      "backcall                           0.2.0\n",
      "backports.functools-lru-cache      1.6.4\n",
      "backports.shutil-get-terminal-size 1.0.0\n",
      "backports.tempfile                 1.0\n",
      "backports.weakref                  1.0.post1\n",
      "bcrypt                             3.2.0\n",
      "beautifulsoup4                     4.9.3\n",
      "bitarray                           1.9.2\n",
      "bkcharts                           0.2\n",
      "black                              19.10b0\n",
      "bleach                             3.3.0\n",
      "bokeh                              2.3.2\n",
      "boto                               2.49.0\n",
      "Bottleneck                         1.3.2\n",
      "brotlipy                           0.7.0\n",
      "cachetools                         4.2.4\n",
      "certifi                            2020.12.5\n",
      "cffi                               1.14.5\n",
      "chardet                            4.0.0\n",
      "clang                              5.0\n",
      "click                              7.1.2\n",
      "cloudpickle                        1.6.0\n",
      "clyent                             1.2.2\n",
      "colorama                           0.4.4\n",
      "comtypes                           1.1.9\n",
      "conda                              4.10.1\n",
      "conda-build                        3.21.4\n",
      "conda-content-trust                0+unknown\n",
      "conda-package-handling             1.7.3\n",
      "conda-repo-cli                     1.0.4\n",
      "conda-token                        0.3.0\n",
      "conda-verify                       3.4.2\n",
      "contextlib2                        0.6.0.post1\n",
      "cryptography                       3.4.7\n",
      "cycler                             0.10.0\n",
      "Cython                             0.29.23\n",
      "cytoolz                            0.11.0\n",
      "dask                               2021.4.0\n",
      "decorator                          5.0.6\n",
      "defusedxml                         0.7.1\n",
      "descartes                          1.1.0\n",
      "diff-match-patch                   20200713\n",
      "distributed                        2021.4.0\n",
      "docutils                           0.17\n",
      "entrypoints                        0.3\n",
      "et-xmlfile                         1.0.1\n",
      "facets-overview                    1.0.0\n",
      "fastcache                          1.1.0\n",
      "filelock                           3.0.12\n",
      "flake8                             3.9.0\n",
      "Flask                              1.1.2\n",
      "flatbuffers                        1.12\n",
      "fsspec                             0.9.0\n",
      "future                             0.18.2\n",
      "gast                               0.4.0\n",
      "geos                               0.2.3\n",
      "gevent                             21.1.2\n",
      "glob2                              0.7\n",
      "google-auth                        2.3.3\n",
      "google-auth-oauthlib               0.4.6\n",
      "google-pasta                       0.2.0\n",
      "greenlet                           1.0.0\n",
      "grpcio                             1.41.1\n",
      "h5py                               3.1.0\n",
      "HeapDict                           1.0.1\n",
      "html5lib                           1.1\n",
      "htmlmin                            0.1.12\n",
      "idna                               2.10\n",
      "imagecodecs                        2021.3.31\n",
      "ImageHash                          4.2.1\n",
      "imageio                            2.9.0\n",
      "imagesize                          1.2.0\n",
      "importlib-metadata                 3.10.0\n",
      "iniconfig                          1.1.1\n",
      "intervaltree                       3.1.0\n",
      "ipykernel                          5.3.4\n",
      "ipython                            7.22.0\n",
      "ipython-genutils                   0.2.0\n",
      "ipywidgets                         7.6.3\n",
      "isort                              5.8.0\n",
      "itsdangerous                       1.1.0\n",
      "jdcal                              1.4.1\n",
      "jedi                               0.17.2\n",
      "jieba                              0.42.1\n",
      "Jinja2                             2.11.3\n",
      "joblib                             1.0.1\n",
      "json5                              0.9.5\n",
      "jsonschema                         3.2.0\n",
      "jupyter                            1.0.0\n",
      "jupyter-client                     6.1.12\n",
      "jupyter-console                    6.4.0\n",
      "jupyter-core                       4.7.1\n",
      "jupyter-packaging                  0.7.12\n",
      "jupyter-server                     1.4.1\n",
      "jupyterlab                         3.0.14\n",
      "jupyterlab-pygments                0.1.2\n",
      "jupyterlab-server                  2.4.0\n",
      "jupyterlab-widgets                 1.0.0\n",
      "keras                              2.6.0\n",
      "Keras-Preprocessing                1.1.2\n",
      "keyring                            22.3.0\n",
      "kiwisolver                         1.3.1\n",
      "lazy-object-proxy                  1.6.0\n",
      "libarchive-c                       2.9\n",
      "llvmlite                           0.36.0\n",
      "locket                             0.2.1\n",
      "lxml                               4.6.3\n",
      "Markdown                           3.3.4\n",
      "MarkupSafe                         2.0.1\n",
      "matplotlib                         3.3.4\n",
      "mccabe                             0.6.1\n",
      "menuinst                           1.4.16\n",
      "missingno                          0.5.0\n",
      "mistune                            0.8.4\n",
      "mizani                             0.7.3\n",
      "mkl-fft                            1.3.0\n",
      "mkl-random                         1.2.1\n",
      "mkl-service                        2.3.0\n",
      "mock                               4.0.3\n",
      "more-itertools                     8.7.0\n",
      "mpmath                             1.2.1\n",
      "msgpack                            1.0.2\n",
      "multimethod                        1.6\n",
      "multipledispatch                   0.6.0\n",
      "mypy-extensions                    0.4.3\n",
      "navigator-updater                  0.2.1\n",
      "nbclassic                          0.2.6\n",
      "nbclient                           0.5.3\n",
      "nbconvert                          6.0.7\n",
      "nbformat                           5.1.3\n",
      "nest-asyncio                       1.5.1\n",
      "networkx                           2.5\n",
      "nltk                               3.6.1\n",
      "nose                               1.3.7\n",
      "notebook                           6.3.0\n",
      "numba                              0.53.1\n",
      "numexpr                            2.7.3\n",
      "numpy                              1.21.4\n",
      "numpydoc                           1.1.0\n",
      "oauthlib                           3.1.1\n",
      "olefile                            0.46\n",
      "openpyxl                           3.0.7\n",
      "opt-einsum                         3.3.0\n",
      "packaging                          20.9\n",
      "palettable                         3.3.0\n",
      "pandas                             1.2.4\n",
      "pandas-profiling                   3.1.0\n",
      "pandocfilters                      1.4.3\n",
      "paramiko                           2.7.2\n",
      "parso                              0.7.0\n",
      "partd                              1.2.0\n",
      "path                               15.1.2\n",
      "pathlib2                           2.3.5\n",
      "pathspec                           0.7.0\n",
      "patsy                              0.5.1\n",
      "pep8                               1.7.1\n",
      "pexpect                            4.8.0\n",
      "phik                               0.12.0\n",
      "pickleshare                        0.7.5\n",
      "Pillow                             8.2.0\n",
      "pip                                21.0.1\n",
      "pkginfo                            1.7.0\n",
      "plotnine                           0.8.0\n",
      "pluggy                             0.13.1\n",
      "ply                                3.11\n",
      "prometheus-client                  0.10.1\n",
      "prompt-toolkit                     3.0.17\n",
      "protobuf                           3.19.1\n",
      "psutil                             5.8.0\n",
      "ptyprocess                         0.7.0\n",
      "py                                 1.10.0\n",
      "py4j                               0.10.9.2\n",
      "pyasn1                             0.4.8\n",
      "pyasn1-modules                     0.2.8\n",
      "pycodestyle                        2.6.0\n",
      "pycosat                            0.6.3\n",
      "pycparser                          2.20\n",
      "pycurl                             7.43.0.6\n",
      "pydantic                           1.8.2\n",
      "pydocstyle                         6.0.0\n",
      "pyerfa                             1.7.3\n",
      "pyflakes                           2.2.0\n",
      "Pygments                           2.8.1\n",
      "pylint                             2.7.4\n",
      "pyls-black                         0.4.6\n",
      "pyls-spyder                        0.3.2\n",
      "PyNaCl                             1.4.0\n",
      "pyodbc                             4.0.0-unsupported\n",
      "pyOpenSSL                          20.0.1\n",
      "pyparsing                          2.4.7\n",
      "pyreadline                         2.1\n",
      "pyrsistent                         0.17.3\n",
      "PySocks                            1.7.1\n",
      "pyspark                            3.2.0\n",
      "pytest                             6.2.3\n",
      "python-dateutil                    2.8.1\n",
      "python-jsonrpc-server              0.4.0\n",
      "python-language-server             0.36.2\n",
      "pytz                               2021.1\n",
      "PyWavelets                         1.1.1\n",
      "pywin32                            227\n",
      "pywin32-ctypes                     0.2.0\n",
      "pywinpty                           0.5.7\n",
      "PyYAML                             5.4.1\n",
      "pyzmq                              20.0.0\n",
      "QDarkStyle                         2.8.1\n",
      "QtAwesome                          1.0.2\n",
      "qtconsole                          5.0.3\n",
      "QtPy                               1.9.0\n",
      "regex                              2021.4.4\n",
      "requests                           2.25.1\n",
      "requests-oauthlib                  1.3.0\n",
      "rope                               0.18.0\n",
      "rsa                                4.7.2\n",
      "Rtree                              0.9.7\n",
      "ruamel-yaml-conda                  0.15.100\n",
      "scikit-image                       0.18.1\n",
      "scikit-learn                       0.24.1\n",
      "scipy                              1.6.2\n",
      "seaborn                            0.11.1\n",
      "Send2Trash                         1.5.0\n",
      "setuptools                         52.0.0.post20210125\n",
      "simplegeneric                      0.8.1\n",
      "singledispatch                     0.0.0\n",
      "sip                                4.19.13\n",
      "six                                1.15.0\n",
      "sniffio                            1.2.0\n",
      "snowballstemmer                    2.1.0\n",
      "sortedcollections                  2.1.0\n",
      "sortedcontainers                   2.3.0\n",
      "soupsieve                          2.2.1\n",
      "Sphinx                             4.0.1\n",
      "sphinxcontrib-applehelp            1.0.2\n",
      "sphinxcontrib-devhelp              1.0.2\n",
      "sphinxcontrib-htmlhelp             1.0.3\n",
      "sphinxcontrib-jsmath               1.0.1\n",
      "sphinxcontrib-qthelp               1.0.3\n",
      "sphinxcontrib-serializinghtml      1.1.4\n",
      "sphinxcontrib-websupport           1.2.4\n",
      "spyder                             4.2.5\n",
      "spyder-kernels                     1.10.2\n",
      "SQLAlchemy                         1.4.7\n",
      "statsmodels                        0.12.2\n",
      "sympy                              1.8\n",
      "tables                             3.6.1\n",
      "tangled-up-in-unicode              0.1.0\n",
      "tblib                              1.7.0\n",
      "tensorboard                        2.7.0\n",
      "tensorboard-data-server            0.6.1\n",
      "tensorboard-plugin-wit             1.8.0\n",
      "tensorflow                         2.6.1\n",
      "tensorflow-estimator               2.6.0\n",
      "termcolor                          1.1.0\n",
      "terminado                          0.9.4\n",
      "testpath                           0.4.4\n",
      "textdistance                       4.2.1\n",
      "threadpoolctl                      2.1.0\n",
      "three-merge                        0.1.1\n",
      "tifffile                           2021.4.8\n",
      "toml                               0.10.2\n",
      "toolz                              0.11.1\n",
      "tornado                            6.1\n",
      "tqdm                               4.59.0\n",
      "traitlets                          5.0.5\n",
      "typed-ast                          1.4.2\n",
      "typing-extensions                  3.7.4.3\n",
      "ujson                              4.0.2\n",
      "unicodecsv                         0.14.1\n",
      "urllib3                            1.26.4\n",
      "visions                            0.7.4\n",
      "watchdog                           1.0.2\n",
      "wcwidth                            0.2.5\n",
      "webencodings                       0.5.1\n",
      "Werkzeug                           1.0.1\n",
      "wheel                              0.36.2\n",
      "widgetsnbextension                 3.5.1\n",
      "win-inet-pton                      1.1.0\n",
      "win-unicode-console                0.5\n",
      "wincertstore                       0.2\n",
      "wordcloud                          1.8.1\n",
      "wrapt                              1.12.1\n",
      "xlrd                               2.0.1\n",
      "XlsxWriter                         1.3.8\n",
      "xlwings                            0.23.0\n",
      "xlwt                               1.3.0\n",
      "xmltodict                          0.12.0\n",
      "yapf                               0.31.0\n",
      "zict                               2.0.0\n",
      "zipp                               3.4.1\n",
      "zope.event                         4.5.0\n",
      "zope.interface                     5.3.0\n",
      "Note: you may need to restart the kernel to use updated packages.\n"
     ]
    }
   ],
   "source": [
    "pip list"
   ]
  },
  {
   "cell_type": "code",
   "execution_count": 52,
   "metadata": {},
   "outputs": [
    {
     "name": "stdout",
     "output_type": "stream",
     "text": [
      "Collecting geos\n",
      "  Downloading geos-0.2.3-py3-none-any.whl (400 kB)\n",
      "Requirement already satisfied: lxml in c:\\users\\lenovo\\anaconda3\\lib\\site-packages (from geos) (4.6.3)\n",
      "Requirement already satisfied: flask in c:\\users\\lenovo\\anaconda3\\lib\\site-packages (from geos) (1.1.2)\n",
      "Requirement already satisfied: pillow in c:\\users\\lenovo\\anaconda3\\lib\\site-packages (from geos) (8.2.0)\n",
      "Requirement already satisfied: Werkzeug>=0.15 in c:\\users\\lenovo\\anaconda3\\lib\\site-packages (from flask->geos) (1.0.1)\n",
      "Requirement already satisfied: click>=5.1 in c:\\users\\lenovo\\anaconda3\\lib\\site-packages (from flask->geos) (7.1.2)\n",
      "Requirement already satisfied: Jinja2>=2.10.1 in c:\\users\\lenovo\\anaconda3\\lib\\site-packages (from flask->geos) (2.11.3)\n",
      "Requirement already satisfied: itsdangerous>=0.24 in c:\\users\\lenovo\\anaconda3\\lib\\site-packages (from flask->geos) (1.1.0)\n",
      "Requirement already satisfied: MarkupSafe>=0.23 in c:\\users\\lenovo\\appdata\\roaming\\python\\python38\\site-packages (from Jinja2>=2.10.1->flask->geos) (2.0.1)\n",
      "Installing collected packages: geos\n",
      "Successfully installed geos-0.2.3\n"
     ]
    }
   ],
   "source": [
    "#!pip install geos"
   ]
  },
  {
   "cell_type": "code",
   "execution_count": 53,
   "metadata": {},
   "outputs": [
    {
     "name": "stdout",
     "output_type": "stream",
     "text": [
      "Requirement already satisfied: numpy in c:\\users\\lenovo\\anaconda3\\lib\\site-packages (1.19.5)\n",
      "Collecting numpy\n",
      "  Downloading numpy-1.21.4-cp38-cp38-win_amd64.whl (14.0 MB)\n"
     ]
    },
    {
     "name": "stderr",
     "output_type": "stream",
     "text": [
      "ERROR: Could not install packages due to an OSError: [WinError 5] 拒绝访问。: 'C:\\\\Users\\\\lenovo\\\\anaconda3\\\\Lib\\\\site-packages\\\\~umpy\\\\.libs\\\\libopenblas.WCDJNK7YVMPZQ2ME2ZZHJJRJ3JIKNDB7.gfortran-win_amd64.dll'\n",
      "Consider using the `--user` option or check the permissions.\n",
      "\n"
     ]
    },
    {
     "name": "stdout",
     "output_type": "stream",
     "text": [
      "Installing collected packages: numpy\n",
      "  Attempting uninstall: numpy\n",
      "    Found existing installation: numpy 1.19.5\n",
      "    Uninstalling numpy-1.19.5:\n",
      "      Successfully uninstalled numpy-1.19.5\n"
     ]
    }
   ],
   "source": [
    "#!pip install --upgrade numpy"
   ]
  },
  {
   "cell_type": "code",
   "execution_count": null,
   "metadata": {},
   "outputs": [],
   "source": []
  }
 ],
 "metadata": {
  "kernelspec": {
   "display_name": "Python 3",
   "language": "python",
   "name": "python3"
  },
  "language_info": {
   "codemirror_mode": {
    "name": "ipython",
    "version": 3
   },
   "file_extension": ".py",
   "mimetype": "text/x-python",
   "name": "python",
   "nbconvert_exporter": "python",
   "pygments_lexer": "ipython3",
   "version": "3.8.8"
  }
 },
 "nbformat": 4,
 "nbformat_minor": 1
}
